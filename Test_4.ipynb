{
  "cells": [
    {
      "cell_type": "markdown",
      "id": "a2d03c1b-3b7f-4e29-aed5-fe7c3c93a61c",
      "metadata": {
        "id": "a2d03c1b-3b7f-4e29-aed5-fe7c3c93a61c"
      },
      "source": [
        "# Statistics Test 2.0"
      ]
    },
    {
      "cell_type": "markdown",
      "id": "eacdfe41-4c50-4a8d-8af9-25d78ccbab02",
      "metadata": {
        "id": "eacdfe41-4c50-4a8d-8af9-25d78ccbab02"
      },
      "source": [
        "Time - 1.30 Hr\n",
        "\n",
        "\n",
        "Total Marks = 60\n",
        "\n"
      ]
    },
    {
      "cell_type": "markdown",
      "id": "-h45Y-7UcYVW",
      "metadata": {
        "id": "-h45Y-7UcYVW"
      },
      "source": [
        "**MCQ**"
      ]
    },
    {
      "cell_type": "markdown",
      "id": "-0TTQIaXcLJF",
      "metadata": {
        "id": "-0TTQIaXcLJF"
      },
      "source": [
        "**Which of the following is a measure of central tendency?**\n",
        "\n",
        "    A) Variance\n",
        "    B) Standard Deviation\n",
        "    C) Mean\n",
        "    D) Range"
      ]
    },
    {
      "cell_type": "markdown",
      "id": "00bf02dc",
      "metadata": {},
      "source": [
        "c) Mean"
      ]
    },
    {
      "cell_type": "markdown",
      "id": "YEex8H5ocLLr",
      "metadata": {
        "id": "YEex8H5ocLLr"
      },
      "source": [
        "**In a dataset with values [2, 4, 4, 6, 8], what is the median?**\n",
        "\n",
        "    A) 4\n",
        "    B) 4.5\n",
        "    C) 6\n",
        "    D) 8"
      ]
    },
    {
      "cell_type": "markdown",
      "id": "d545bdad",
      "metadata": {},
      "source": [
        "B) 4.5"
      ]
    },
    {
      "cell_type": "markdown",
      "id": "NLR39gAncLNz",
      "metadata": {
        "id": "NLR39gAncLNz"
      },
      "source": [
        "**Inferential statistics are used to:**\n",
        "\n",
        "    A) Describe the data's central tendency\n",
        "    B) Summarize the data\n",
        "    C) Make predictions or inferences about a population based on a sample\n",
        "    D) Visualize the data"
      ]
    },
    {
      "cell_type": "markdown",
      "id": "ef4ddc0d",
      "metadata": {},
      "source": [
        "C) Make predictions or inferences about a population based on a sample"
      ]
    },
    {
      "cell_type": "markdown",
      "id": "gxSeoRancLP9",
      "metadata": {
        "id": "gxSeoRancLP9"
      },
      "source": [
        "**What does a confidence interval represent?**\n",
        "\n",
        "    A) The range within which the population mean is expected to fall with a certain probability\n",
        "    B) The exact value of the population mean\n",
        "    C) The variability within the sample\n",
        "    D) The number of samples required"
      ]
    },
    {
      "cell_type": "markdown",
      "id": "1839623f",
      "metadata": {},
      "source": [
        "A) The range within which the population mean is expected to fall with a certain probability"
      ]
    },
    {
      "cell_type": "markdown",
      "id": "8VcnEmX9cLSM",
      "metadata": {
        "id": "8VcnEmX9cLSM"
      },
      "source": [
        "**According to the Central Limit Theorem, as the sample size increases, the distribution of the sample mean:**\n",
        "\n",
        "    A) Becomes skewed\n",
        "    B) Approaches a normal distribution\n",
        "    C) Remains uniform\n",
        "    D) Becomes bimodal"
      ]
    },
    {
      "cell_type": "markdown",
      "id": "bbe5b283",
      "metadata": {},
      "source": [
        "B) Approaches a normal distribution"
      ]
    },
    {
      "cell_type": "markdown",
      "id": "mQAz26m_cLUq",
      "metadata": {
        "id": "mQAz26m_cLUq"
      },
      "source": [
        "**The Central Limit Theorem is important because:**\n",
        "\n",
        "    A) It helps in defining the exact population distribution\n",
        "    B) It allows for the use of normal distribution to make inferences about sample means\n",
        "    C) It eliminates the need for sampling\n",
        "    D) It ensures sample sizes are always large"
      ]
    },
    {
      "cell_type": "markdown",
      "id": "60f615ff",
      "metadata": {},
      "source": [
        "B) It allows for the use of normal distribution to make inferences about sample means"
      ]
    },
    {
      "cell_type": "markdown",
      "id": "F1T_g8pgcLWv",
      "metadata": {
        "id": "F1T_g8pgcLWv"
      },
      "source": [
        "**ANOVA is used to test:**\n",
        "\n",
        "    A) The association between two categorical variables\n",
        "    B) The differences between means of three or more groups\n",
        "    C) The proportion of a sample\n",
        "    D) The correlation between two continuous variables"
      ]
    },
    {
      "cell_type": "markdown",
      "id": "2e2dee46",
      "metadata": {},
      "source": [
        "B) The differences between means of three or more groups"
      ]
    },
    {
      "cell_type": "markdown",
      "id": "MXX8Exw3dBzd",
      "metadata": {
        "id": "MXX8Exw3dBzd"
      },
      "source": [
        "**A p-value less than 0.05 in an ANOVA test indicates:**\n",
        "\n",
        "    A) There is no significant difference between group means\n",
        "    B) The means of at least one group are significantly different from others\n",
        "    C) The variances within groups are equal\n",
        "    D) The sample size is too small"
      ]
    },
    {
      "cell_type": "markdown",
      "id": "a051990e",
      "metadata": {},
      "source": [
        "    A) There is no significant difference between group means\n"
      ]
    },
    {
      "cell_type": "markdown",
      "id": "T5dE7-GIdB14",
      "metadata": {
        "id": "T5dE7-GIdB14"
      },
      "source": [
        "**The chi-square test of independence assesses:**\n",
        "\n",
        "    A) If two continuous variables are related\n",
        "    B) The goodness-of-fit of a model\n",
        "    C) The association between two categorical variables\n",
        "    D) The variance of a single variable"
      ]
    },
    {
      "cell_type": "markdown",
      "id": "70d232aa",
      "metadata": {},
      "source": [
        "C) The association between two categorical variables"
      ]
    },
    {
      "cell_type": "markdown",
      "id": "TbkJYhyNdIa0",
      "metadata": {
        "id": "TbkJYhyNdIa0"
      },
      "source": [
        "**The two-sample t-test assumes:**\n",
        "\n",
        "    A) Equal variances between the two groups\n",
        "    B) Unequal variances between the two groups\n",
        "    C) No assumption about variances\n",
        "    D) The samples are paired"
      ]
    },
    {
      "cell_type": "markdown",
      "id": "e8d69635",
      "metadata": {},
      "source": [
        "C) No assumption about variances"
      ]
    },
    {
      "cell_type": "markdown",
      "id": "6b85eac4-9fa5-4a6e-8944-31cfdb85b1f7",
      "metadata": {
        "id": "6b85eac4-9fa5-4a6e-8944-31cfdb85b1f7"
      },
      "source": [
        "# Python Basic Exercise\n",
        "\n",
        "### Solve any three"
      ]
    },
    {
      "cell_type": "markdown",
      "id": "daf26a58-0326-40aa-bdb6-8d765abaa5e8",
      "metadata": {
        "id": "daf26a58-0326-40aa-bdb6-8d765abaa5e8"
      },
      "source": [
        "Que 1 -> You have a list a=[1,2,3,6,9,7,4,5,8], and you have to find the kth element from the list. This means I want to find the 2nd largest number from the list. Similarly, you have to create a function where I pass a number, say 4, and the function will return the 4th largest number from the list."
      ]
    },
    {
      "cell_type": "code",
      "execution_count": null,
      "id": "6f85b635-779f-4c1f-be25-fed8ad6ca5b0",
      "metadata": {
        "id": "6f85b635-779f-4c1f-be25-fed8ad6ca5b0"
      },
      "outputs": [],
      "source": [
        "#Sol->\n",
        "a=[1,2,3,6,9,7,4,5,8]\n",
        "a.sort(reverse = True)\n",
        "\n",
        "def kth_value(a,k):\n",
        "    return a[k-1]\n",
        "\n",
        "\n",
        "kth_larg = kth_value(a,2)\n",
        "kth_larg"
      ]
    },
    {
      "cell_type": "markdown",
      "id": "bb4ffbe7-2bd2-47fe-be13-41ce39dde5a7",
      "metadata": {
        "id": "bb4ffbe7-2bd2-47fe-be13-41ce39dde5a7"
      },
      "source": [
        "Que 2-> you have a list [1,8,0,6,4,0,6,0,0,2,0], You need to shift all the zeros to the right , without using any inbuilt function."
      ]
    },
    {
      "cell_type": "code",
      "execution_count": null,
      "id": "39017c11-1084-4c96-b229-83ba71c15b98",
      "metadata": {
        "id": "39017c11-1084-4c96-b229-83ba71c15b98"
      },
      "outputs": [],
      "source": [
        "#Sol->\n",
        "\n",
        "def shift_zeros_right(nums):\n",
        " \n",
        "  left = 0\n",
        "  right = 0\n",
        "\n",
        "  while right < len(nums):\n",
        "    if nums[right] != 0:\n",
        "      \n",
        "      nums[left], nums[right] = nums[right], nums[left]\n",
        "      left += 1\n",
        "    right += 1\n",
        "\n",
        "\n",
        "a = [1, 8, 0, 6, 4, 0, 6, 0, 0, 2, 0]\n",
        "shift_zeros_right(a)\n",
        "print(a)  \n"
      ]
    },
    {
      "cell_type": "markdown",
      "id": "8f6bb4bc-9d9f-4f99-ad34-489934da6fb8",
      "metadata": {
        "id": "8f6bb4bc-9d9f-4f99-ad34-489934da6fb8"
      },
      "source": [
        "Que 3->Reverse a string without using any inbuilt function like slicing."
      ]
    },
    {
      "cell_type": "code",
      "execution_count": null,
      "id": "3cfc4b48-15e0-4fcf-8cb7-1c6171d407e6",
      "metadata": {
        "id": "3cfc4b48-15e0-4fcf-8cb7-1c6171d407e6"
      },
      "outputs": [],
      "source": [
        "Sol-\n",
        "stg = \"hello\"\n",
        "\n",
        "stg[::-1]"
      ]
    },
    {
      "cell_type": "markdown",
      "id": "58b475ca-89a9-4074-adfa-1b31e6609aaf",
      "metadata": {
        "id": "58b475ca-89a9-4074-adfa-1b31e6609aaf"
      },
      "source": [
        "    Que 4-> To find common prefix in array of strings\n",
        "\n",
        "    array= ['Abce','Abcjhgj','Abcf']\n",
        "\n",
        "\n",
        "    The common prefix among the strings 'Abce', 'Abcjhgj', and 'Abcf' is 'Abc'. So, the common prefix is 'Abc'."
      ]
    },
    {
      "cell_type": "code",
      "execution_count": null,
      "id": "80d7e6ea-574b-4135-aa87-a042e9956390",
      "metadata": {
        "id": "80d7e6ea-574b-4135-aa87-a042e9956390"
      },
      "outputs": [],
      "source": [
        "Sol->\n",
        "\n",
        "def longest_common_prefix(strs):\n",
        "    if not strs:\n",
        "        return \"\"\n",
        "    \n",
        "    \n",
        "    for i in range(len(strs[0])):\n",
        "        for string in strs[1:]:\n",
        "            if i >= len(string) or string[i] != strs[0][i]:\n",
        "                return strs[0][:i]\n",
        "    \n",
        "    return strs[0]\n",
        "\n",
        "array = ['Abce', 'Abcjhgj', 'Abcf']\n",
        "common_prefix = longest_common_prefix(array)\n",
        "print(\"The common prefix is:\", common_prefix)\n"
      ]
    },
    {
      "cell_type": "markdown",
      "id": "91637a40-f4ed-414d-9c71-c82374cb13a3",
      "metadata": {
        "id": "91637a40-f4ed-414d-9c71-c82374cb13a3"
      },
      "source": [
        "Que 5- Given the list l = [1,2,0,1,2,0,0], I want the output to be ans = [0,0,0,2,2,1,1] without using any inbuilt function"
      ]
    },
    {
      "cell_type": "code",
      "execution_count": null,
      "id": "ea7b0b77-9ff4-4f73-9a99-129c665fb961",
      "metadata": {
        "id": "ea7b0b77-9ff4-4f73-9a99-129c665fb961"
      },
      "outputs": [],
      "source": [
        "Sol->\n",
        "l = [1,2,0,1,2,0,0]\n",
        "x=[]\n",
        "y=[]\n",
        "z =[]\n",
        "\n",
        "for i in l:\n",
        "    if i ==0:\n",
        "        x.append(i)\n",
        "    elif i==2:\n",
        "        y.append(i)\n",
        "    else:\n",
        "        z.append(i)\n",
        "        \n",
        "a = x+y+z\n"
      ]
    },
    {
      "cell_type": "code",
      "execution_count": null,
      "id": "f36bc3d6-7bd0-4f8e-aad7-ac40484e911f",
      "metadata": {
        "id": "f36bc3d6-7bd0-4f8e-aad7-ac40484e911f"
      },
      "outputs": [],
      "source": []
    },
    {
      "cell_type": "markdown",
      "id": "e17c874f-ffe2-416f-af6c-2ba6e57a0bfd",
      "metadata": {
        "id": "e17c874f-ffe2-416f-af6c-2ba6e57a0bfd"
      },
      "source": [
        "# Statistics Theory Question\n"
      ]
    },
    {
      "cell_type": "markdown",
      "id": "0b748385-fe05-40f2-adc8-5b643f95b906",
      "metadata": {
        "id": "0b748385-fe05-40f2-adc8-5b643f95b906"
      },
      "source": [
        "Que 1- What is Central Limit Theoram ? Explain."
      ]
    },
    {
      "cell_type": "code",
      "execution_count": null,
      "id": "6e9ac27e-7076-4a13-89a6-d0ebe39d10f1",
      "metadata": {
        "id": "6e9ac27e-7076-4a13-89a6-d0ebe39d10f1"
      },
      "outputs": [],
      "source": [
        "Ans=  it states that the distribution of sample means will be approximately normal if you take a sufficiently large number of random samples from a population with a finite variance:    \n",
        "\n",
        "μx̅ = μ (Mean of sample mean = Population mean)"
      ]
    },
    {
      "cell_type": "markdown",
      "id": "8466b61e-24b9-4567-bd63-04d8fb5360ad",
      "metadata": {
        "id": "8466b61e-24b9-4567-bd63-04d8fb5360ad"
      },
      "source": [
        "Que 2- What is CDF(Comulative density function). Explain with mathematics."
      ]
    },
    {
      "cell_type": "code",
      "execution_count": null,
      "id": "02b38da6-fd6a-4ecc-8275-aa85a320f78a",
      "metadata": {
        "id": "02b38da6-fd6a-4ecc-8275-aa85a320f78a"
      },
      "outputs": [],
      "source": [
        "Ans= the CDF is like a tool that helps to answer questions like, \"What's the chance of getting a value less than or equal to X?\" It's a way to quantify uncertainty and make informed decisions based on probabilities.\n",
        "It will start from 1 and goes to 100% and never cross this limit"
      ]
    },
    {
      "cell_type": "markdown",
      "id": "6ada9cfc-cb42-4e64-b74e-7befd45cbe4a",
      "metadata": {
        "id": "6ada9cfc-cb42-4e64-b74e-7befd45cbe4a"
      },
      "source": [
        "Que 3- What is Anova test. how we can calculate behind the scene ?"
      ]
    },
    {
      "cell_type": "code",
      "execution_count": null,
      "id": "b2173ae3-80fc-4ba6-bbb9-3013db30a02f",
      "metadata": {
        "id": "b2173ae3-80fc-4ba6-bbb9-3013db30a02f"
      },
      "outputs": [],
      "source": [
        "Ans=The Analysis of Variance (ANOVA) test is a statistical test used to compare the means of two or more groups.  It determines whether there are statistically significant differences among the means.\n",
        "\n",
        "Null Hypothesis , typically is that , all means are equal\n",
        "\n",
        "--> The independent variables are categorical\n",
        "\n",
        "--> Dependent Variable are continous\n",
        "\n",
        "F value\n",
        "\n",
        "Based of F score we will find p value\n",
        "\n",
        "F=Sample means of betweeen groups /sample means of within groups.\n",
        "\n",
        "\"F\" in F-score stands for Fisher. The F-score is named after its developer, Sir Ronald Fisher, a prominent statistician."
      ]
    },
    {
      "cell_type": "code",
      "execution_count": null,
      "id": "7f399a60",
      "metadata": {},
      "outputs": [],
      "source": []
    },
    {
      "cell_type": "markdown",
      "id": "dffe2da1-3353-4865-85eb-fff2caea349a",
      "metadata": {
        "id": "dffe2da1-3353-4865-85eb-fff2caea349a"
      },
      "source": [
        "Que 4-  What is Chi-Square test. how we will calculate behind the scene."
      ]
    },
    {
      "cell_type": "code",
      "execution_count": null,
      "id": "00d08145-13da-4d6d-a580-fca78914b2d8",
      "metadata": {
        "id": "00d08145-13da-4d6d-a580-fca78914b2d8"
      },
      "outputs": [],
      "source": [
        "Ans=The chi squared test can be used to determine wheather your data obeys a known theoretical porbablity distribution such as normal or poisson distribution.\n",
        "\n",
        "formula = np.sqrt(expected - Obserbed)/expected"
      ]
    },
    {
      "cell_type": "markdown",
      "id": "8fec219a-1fe3-41db-a2ba-8a0b5e0b4a43",
      "metadata": {
        "id": "8fec219a-1fe3-41db-a2ba-8a0b5e0b4a43"
      },
      "source": [
        "    Que 5-  What is the difference between inferential and descriptive statistics."
      ]
    },
    {
      "cell_type": "code",
      "execution_count": null,
      "id": "6717b5d9-704f-4f01-854a-d89d40cb8568",
      "metadata": {
        "id": "6717b5d9-704f-4f01-854a-d89d40cb8568"
      },
      "outputs": [],
      "source": [
        "Ans=Main difference b/w inferential and descriptive statistics is Discriptive Statistics usually apply on whole population .and then get some result like mean,median, and average and inferential apply on some sample population . and then we got some result and we assume the result to the whole population."
      ]
    },
    {
      "cell_type": "markdown",
      "id": "d7a2df48-9875-4b6b-ba26-feee4e03b1d5",
      "metadata": {
        "id": "d7a2df48-9875-4b6b-ba26-feee4e03b1d5"
      },
      "source": [
        "Que 6- Explain any 2 distribution."
      ]
    },
    {
      "cell_type": "code",
      "execution_count": null,
      "id": "938bde99-9a25-4a93-b594-182b09b7db61",
      "metadata": {
        "id": "938bde99-9a25-4a93-b594-182b09b7db61"
      },
      "outputs": [],
      "source": [
        "Ans =The normal distribution has a peak at the mean and decreases as the values move away from the mean, which means that values near the mean are more likely than values far from the mean. The uniform distribution has no peak and is constant across the range, which means that all values are equally likely."
      ]
    },
    {
      "cell_type": "markdown",
      "id": "5c2a1d3b-bea9-4de6-8018-a120e2d36528",
      "metadata": {
        "id": "5c2a1d3b-bea9-4de6-8018-a120e2d36528"
      },
      "source": [
        "# Statistics Mathematics  Question\n",
        "\n"
      ]
    },
    {
      "cell_type": "markdown",
      "id": "40749fa8-a06d-4d9c-8864-4bb8b24599a3",
      "metadata": {
        "id": "40749fa8-a06d-4d9c-8864-4bb8b24599a3"
      },
      "source": [
        "Que 1 - if I generate heights for 1000 people from a normal distribution, what would be the probability for a new person to have a height of 70 inches using (CDF) then z-score table? take height in inches.\n",
        "\n",
        "#### Mean height (in inches) of the population\n",
        "mean_height = 66\n",
        "\n",
        "#### Standard deviation of heights (in inches) of the population\n",
        "std_dev_height = 3\n",
        "\n",
        "\n",
        "##### Generate data using this code\n",
        "###### Generate heights for 1000 people from a normal distribution\n",
        "heights = np.random.normal(mean_height, std_dev_height, 1000)))"
      ]
    },
    {
      "cell_type": "code",
      "execution_count": null,
      "id": "e0b6c3a7-4b11-403f-860d-0beab1408712",
      "metadata": {
        "id": "e0b6c3a7-4b11-403f-860d-0beab1408712"
      },
      "outputs": [],
      "source": [
        "Sol=\n",
        "\n",
        "import numpy as np\n",
        "import scipy.stats as st\n",
        "\n",
        "mean_height = 66\n",
        "std_dev_height = 3\n",
        "heights = np.random.normal(mean_height, std_dev_height, 1000)\n",
        "\n",
        "height = 70\n",
        "z_score = (height - mean_height) / std_dev_height\n",
        "\n",
        "print(\"Z_Score is:\",z_score )\n",
        "\n",
        "probb = st.norm.cdf(z_score)\n",
        "print(\"Probability of a height less than or equal to 70 inches:\",probb)\n",
        "\n"
      ]
    },
    {
      "cell_type": "code",
      "execution_count": null,
      "id": "02c423a1-cadd-4780-b2b1-606b36cbb1a9",
      "metadata": {
        "id": "02c423a1-cadd-4780-b2b1-606b36cbb1a9"
      },
      "outputs": [],
      "source": []
    },
    {
      "cell_type": "code",
      "execution_count": null,
      "id": "fc8691b1-9217-45fa-9c79-c7ad3b60b150",
      "metadata": {
        "id": "fc8691b1-9217-45fa-9c79-c7ad3b60b150"
      },
      "outputs": [],
      "source": []
    },
    {
      "cell_type": "code",
      "execution_count": null,
      "id": "5dabad10-7ae0-4827-9d09-6b95ea27deea",
      "metadata": {
        "id": "5dabad10-7ae0-4827-9d09-6b95ea27deea"
      },
      "outputs": [],
      "source": []
    },
    {
      "cell_type": "code",
      "execution_count": null,
      "id": "2ab7b5e6-e40f-450c-becf-eadedda71980",
      "metadata": {
        "id": "2ab7b5e6-e40f-450c-becf-eadedda71980"
      },
      "outputs": [],
      "source": []
    },
    {
      "cell_type": "markdown",
      "id": "99a22f4f-7737-4ef9-9ad0-fb7bd8e0ba46",
      "metadata": {
        "id": "99a22f4f-7737-4ef9-9ad0-fb7bd8e0ba46"
      },
      "source": [
        "Que 2-  Suppose a fitness center manager anticipates the attendance for a particular yoga class throughout the week. Based on historical data and other factors, they estimate the expected attendance in numbers:\n",
        "\n",
        "### Expected Attendance:\n",
        "\n",
        "Monday: 40\n",
        "\n",
        "Tuesday: 45\n",
        "\n",
        "Wednesday: 38\n",
        "\n",
        "Thursday: 50\n",
        "\n",
        "Friday: 55\n",
        "\n",
        "Saturday: 60\n",
        "\n",
        "Sunday: 65\n",
        "\n",
        "However, after the week concludes, the actual attendance is recorded:\n",
        "\n",
        "\n",
        "\n",
        "### Observed (Actual) Attendance:\n",
        "\n",
        "\n",
        "\n",
        "Monday: 38\n",
        "\n",
        "Tuesday: 43\n",
        "\n",
        "Wednesday: 40\n",
        "\n",
        "Thursday: 48\n",
        "\n",
        "Friday: 52\n",
        "\n",
        "Saturday: 58\n",
        "\n",
        "Sunday: 62\n",
        "\n",
        "Ho: There is no significant difference between the expected and observed attendance for the yoga class throughout the week.\n",
        "\n",
        "Ha: There is a significant difference between the expected and observed attendance for the yoga class throughout the week.\n",
        "\n",
        "#### Use chi-square test *Statistical Tools*"
      ]
    },
    {
      "cell_type": "code",
      "execution_count": null,
      "id": "06f2df44-24f4-4314-900d-d03f02823ceb",
      "metadata": {
        "id": "06f2df44-24f4-4314-900d-d03f02823ceb"
      },
      "outputs": [],
      "source": [
        "Sol=\n",
        "\n",
        "import numpy as np\n",
        "\n",
        "expected = np.array([40, 45, 38, 50, 55, 60, 65])\n",
        "observed = np.array([38, 43, 40, 48, 52, 58, 62])\n",
        "\n",
        "chi_ind = (observed - expected) ** 2 / expected\n",
        "\n",
        "\n",
        "chi_square_statistic = np.sum(chi_ind)\n",
        "\n",
        "\n",
        "print(\"Our Chi-square test statistic score ==> \", chi_square_statistic)\n"
      ]
    },
    {
      "cell_type": "code",
      "execution_count": null,
      "id": "3db52de2-8492-49fa-a11f-9289d5318284",
      "metadata": {
        "id": "3db52de2-8492-49fa-a11f-9289d5318284"
      },
      "outputs": [],
      "source": []
    },
    {
      "cell_type": "markdown",
      "id": "a651ae03-9b6a-4af4-a3e9-97b90bb8913e",
      "metadata": {
        "id": "a651ae03-9b6a-4af4-a3e9-97b90bb8913e"
      },
      "source": [
        "Que3 -> Calculate anova test\n",
        "\n",
        "\n",
        "\n",
        "\n",
        "\n",
        "    | Student_ID | Semester | Total_Marks |\n",
        "    |------------|----------|-------------|\n",
        "    | 1          | Fall     | 85          |\n",
        "    | 2          | Fall     | 78          |\n",
        "    | 3          | Fall     | 92          |\n",
        "    | 4          | Spring   | 88          |\n",
        "    | 5          | Spring   | 75          |\n",
        "    | 6          | Spring   | 82          |\n",
        "    | 7          | Summer   | 90          |\n",
        "    | 8          | Summer   | 86          |\n",
        "    | 9          | Summer   | 79          |    \n",
        "\n",
        "\n",
        "Null Hypothesis (Ho): The average marks of students in each semester are approximately equal.\n",
        "\n",
        "Alternative Hypothesis (Ha): The average marks of students in at least one semester are different."
      ]
    },
    {
      "cell_type": "code",
      "execution_count": null,
      "id": "f4680b16-587c-4bec-809e-bfe473b7538a",
      "metadata": {
        "id": "f4680b16-587c-4bec-809e-bfe473b7538a"
      },
      "outputs": [],
      "source": []
    },
    {
      "cell_type": "code",
      "execution_count": null,
      "id": "18d90b6a-a4e8-4b2c-97a2-9829efb6703b",
      "metadata": {
        "id": "18d90b6a-a4e8-4b2c-97a2-9829efb6703b"
      },
      "outputs": [],
      "source": [
        "Sol=\n",
        "\n",
        "import pandas as pd\n",
        "import statsmodels.api as sm\n",
        "from statsmodels.formula.api import ols\n",
        "\n",
        "data = {\n",
        "    'Student_ID': [1, 2, 3, 4, 5, 6, 7, 8, 9],\n",
        "    'Semester': ['Fall', 'Fall', 'Fall', 'Spring', 'Spring', 'Spring', 'Summer', 'Summer', 'Summer'],\n",
        "    'Total_Marks': [85, 78, 92, 88, 75, 82, 90, 86, 79]\n",
        "}\n",
        "\n",
        "df = pd.DataFrame(data)\n",
        "\n",
        "# Fit the model\n",
        "model = ols('Total_Marks ~ Semester', data=df).fit()\n",
        "\n",
        "# Perform ANOVA\n",
        "anova_table = sm.stats.anova_lm(model, typ=2)\n",
        "\n",
        "print(anova_table)\n"
      ]
    },
    {
      "cell_type": "code",
      "execution_count": null,
      "id": "575e378d-97df-466d-bebb-c0fe35db0935",
      "metadata": {
        "id": "575e378d-97df-466d-bebb-c0fe35db0935"
      },
      "outputs": [],
      "source": []
    },
    {
      "cell_type": "code",
      "execution_count": null,
      "id": "cab935e4-8712-49b3-8201-e9f7b446c5a0",
      "metadata": {
        "id": "cab935e4-8712-49b3-8201-e9f7b446c5a0"
      },
      "outputs": [],
      "source": []
    },
    {
      "cell_type": "code",
      "execution_count": null,
      "id": "d53135d4-8642-469e-adc7-cc8665a07a7e",
      "metadata": {
        "id": "d53135d4-8642-469e-adc7-cc8665a07a7e"
      },
      "outputs": [],
      "source": [
        "#Solution only submit in Github"
      ]
    },
    {
      "cell_type": "code",
      "execution_count": null,
      "id": "81d8187f-1a71-40ea-a3ed-6c30f21ad72b",
      "metadata": {
        "id": "81d8187f-1a71-40ea-a3ed-6c30f21ad72b"
      },
      "outputs": [],
      "source": []
    }
  ],
  "metadata": {
    "colab": {
      "provenance": []
    },
    "kernelspec": {
      "display_name": "Python 3 (ipykernel)",
      "language": "python",
      "name": "python3"
    },
    "language_info": {
      "codemirror_mode": {
        "name": "ipython",
        "version": 3
      },
      "file_extension": ".py",
      "mimetype": "text/x-python",
      "name": "python",
      "nbconvert_exporter": "python",
      "pygments_lexer": "ipython3",
      "version": "3.10.12"
    }
  },
  "nbformat": 4,
  "nbformat_minor": 5
}
