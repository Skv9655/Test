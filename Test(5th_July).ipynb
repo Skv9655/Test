{
  "nbformat": 4,
  "nbformat_minor": 0,
  "metadata": {
    "colab": {
      "provenance": []
    },
    "kernelspec": {
      "name": "python3",
      "display_name": "Python 3"
    },
    "language_info": {
      "name": "python"
    }
  },
  "cells": [
    {
      "cell_type": "code",
      "execution_count": 1,
      "metadata": {
        "colab": {
          "base_uri": "https://localhost:8080/"
        },
        "id": "-DxnHKSrJFwh",
        "outputId": "0d32cc33-f33a-4043-dec8-8d41f0c42531"
      },
      "outputs": [
        {
          "output_type": "stream",
          "name": "stdout",
          "text": [
            "8\n"
          ]
        }
      ],
      "source": [
        "print(2 ** 3)"
      ]
    },
    {
      "cell_type": "code",
      "source": [
        "print(\"Hello\" + \" \" + \"World\")"
      ],
      "metadata": {
        "colab": {
          "base_uri": "https://localhost:8080/"
        },
        "id": "WNnbNCVbJImF",
        "outputId": "d9f3f294-c9bc-4dc2-ab0b-99a4f444d170"
      },
      "execution_count": 2,
      "outputs": [
        {
          "output_type": "stream",
          "name": "stdout",
          "text": [
            "Hello World\n"
          ]
        }
      ]
    },
    {
      "cell_type": "code",
      "source": [
        "a = [1, 2, 3]\n",
        "print(len(a))"
      ],
      "metadata": {
        "colab": {
          "base_uri": "https://localhost:8080/"
        },
        "id": "eY6xzRlbJvuD",
        "outputId": "c07fa747-47ed-4616-d95a-86a14a0727b3"
      },
      "execution_count": 4,
      "outputs": [
        {
          "output_type": "stream",
          "name": "stdout",
          "text": [
            "3\n"
          ]
        }
      ]
    },
    {
      "cell_type": "code",
      "source": [
        "num = int(input(\"Enter the Number\"))\n",
        "\n",
        "def fact(n):\n",
        "  fact=1\n",
        "  for i in range(1,n+1):\n",
        "    fact=fact*i\n",
        "  return fact\n",
        "print(fact(num))"
      ],
      "metadata": {
        "colab": {
          "base_uri": "https://localhost:8080/"
        },
        "id": "b8XAzlaVKHtq",
        "outputId": "903fae3f-4d3d-403d-b4ef-73df800a2956"
      },
      "execution_count": 5,
      "outputs": [
        {
          "output_type": "stream",
          "name": "stdout",
          "text": [
            "Enter the Number8\n",
            "40320\n"
          ]
        }
      ]
    },
    {
      "cell_type": "code",
      "source": [
        "nat_num = [i for i in range(1,11)]\n",
        "print(nat_num)"
      ],
      "metadata": {
        "colab": {
          "base_uri": "https://localhost:8080/"
        },
        "id": "CJYPnzjwN5aJ",
        "outputId": "a717e41f-9bfa-4a98-ac05-ff4001e87552"
      },
      "execution_count": 6,
      "outputs": [
        {
          "output_type": "stream",
          "name": "stdout",
          "text": [
            "[1, 2, 3, 4, 5, 6, 7, 8, 9, 10]\n"
          ]
        }
      ]
    },
    {
      "cell_type": "code",
      "source": [
        "numbers = [1, 2, 3, 4, 5]\n",
        "\n",
        "sum(numbers)"
      ],
      "metadata": {
        "colab": {
          "base_uri": "https://localhost:8080/"
        },
        "id": "Zo-skOMzOqIR",
        "outputId": "579ad171-8d6f-4897-bc6d-2456767c13a7"
      },
      "execution_count": 10,
      "outputs": [
        {
          "output_type": "execute_result",
          "data": {
            "text/plain": [
              "15"
            ]
          },
          "metadata": {},
          "execution_count": 10
        }
      ]
    },
    {
      "cell_type": "code",
      "source": [
        "string = input(\"Enter a string: \")\n",
        "reversed_string = string[::-1]"
      ],
      "metadata": {
        "colab": {
          "base_uri": "https://localhost:8080/"
        },
        "id": "OAsqVE9CPBSY",
        "outputId": "c9082b96-2bb1-468a-8bdb-7ff578faea4a"
      },
      "execution_count": 11,
      "outputs": [
        {
          "name": "stdout",
          "output_type": "stream",
          "text": [
            "Enter a string: suraj\n"
          ]
        }
      ]
    },
    {
      "cell_type": "code",
      "source": [
        "reversed_string"
      ],
      "metadata": {
        "colab": {
          "base_uri": "https://localhost:8080/",
          "height": 35
        },
        "id": "ReRCTiAYPofY",
        "outputId": "700fdcc1-52db-40ac-d012-72f37c4ba92e"
      },
      "execution_count": 12,
      "outputs": [
        {
          "output_type": "execute_result",
          "data": {
            "text/plain": [
              "'jarus'"
            ],
            "application/vnd.google.colaboratory.intrinsic+json": {
              "type": "string"
            }
          },
          "metadata": {},
          "execution_count": 12
        }
      ]
    },
    {
      "cell_type": "code",
      "source": [
        "string = string.sorted(reverse =True)"
      ],
      "metadata": {
        "colab": {
          "base_uri": "https://localhost:8080/",
          "height": 141
        },
        "id": "Ew4HiOxmPtAK",
        "outputId": "a96bdd16-ebbe-4170-e0bb-d54fecd883b6"
      },
      "execution_count": 14,
      "outputs": [
        {
          "output_type": "error",
          "ename": "AttributeError",
          "evalue": "'str' object has no attribute 'sorted'",
          "traceback": [
            "\u001b[0;31m---------------------------------------------------------------------------\u001b[0m",
            "\u001b[0;31mAttributeError\u001b[0m                            Traceback (most recent call last)",
            "\u001b[0;32m<ipython-input-14-e97ade373931>\u001b[0m in \u001b[0;36m<cell line: 1>\u001b[0;34m()\u001b[0m\n\u001b[0;32m----> 1\u001b[0;31m \u001b[0mstring\u001b[0m \u001b[0;34m=\u001b[0m \u001b[0mstring\u001b[0m\u001b[0;34m.\u001b[0m\u001b[0msorted\u001b[0m\u001b[0;34m(\u001b[0m\u001b[0mreverse\u001b[0m \u001b[0;34m=\u001b[0m\u001b[0;32mTrue\u001b[0m\u001b[0;34m)\u001b[0m\u001b[0;34m\u001b[0m\u001b[0;34m\u001b[0m\u001b[0m\n\u001b[0m",
            "\u001b[0;31mAttributeError\u001b[0m: 'str' object has no attribute 'sorted'"
          ]
        }
      ]
    },
    {
      "cell_type": "code",
      "source": [
        "string = \"Suraj\"\n",
        "print(string[::-1])"
      ],
      "metadata": {
        "colab": {
          "base_uri": "https://localhost:8080/"
        },
        "id": "YVC8jODfPw8D",
        "outputId": "d4fc176c-735a-4e29-847a-5632c38f5f34"
      },
      "execution_count": 15,
      "outputs": [
        {
          "output_type": "stream",
          "name": "stdout",
          "text": [
            "jaruS\n"
          ]
        }
      ]
    },
    {
      "cell_type": "code",
      "source": [
        "x = int(input(\"Enter the Number\"))\n",
        "for i in range(1,11):\n",
        "  print(x*i)"
      ],
      "metadata": {
        "colab": {
          "base_uri": "https://localhost:8080/"
        },
        "id": "hoQX0taVQNFp",
        "outputId": "6e1f7731-9b48-476a-90f6-dd600c0c7be6"
      },
      "execution_count": 19,
      "outputs": [
        {
          "output_type": "stream",
          "name": "stdout",
          "text": [
            "Enter the Number9\n",
            "9\n",
            "18\n",
            "27\n",
            "36\n",
            "45\n",
            "54\n",
            "63\n",
            "72\n",
            "81\n",
            "90\n"
          ]
        }
      ]
    },
    {
      "cell_type": "code",
      "source": [
        "vowels = \"aeiouAEIOU\"\n",
        "string = input(\"Enter a string: \")\n",
        "count = sum(1 for char in string if char in vowels)\n",
        "print(f\"Number of vowels in the string is: {count}\")"
      ],
      "metadata": {
        "colab": {
          "base_uri": "https://localhost:8080/"
        },
        "id": "J7LjUpGrQ5Jq",
        "outputId": "78c75e5e-9c09-4a3e-bda3-e8c8010d5c36"
      },
      "execution_count": 20,
      "outputs": [
        {
          "output_type": "stream",
          "name": "stdout",
          "text": [
            "Enter a string: aeiou\n",
            "Number of vowels in the string is: 5\n"
          ]
        }
      ]
    },
    {
      "cell_type": "code",
      "source": [
        "vowels"
      ],
      "metadata": {
        "colab": {
          "base_uri": "https://localhost:8080/",
          "height": 35
        },
        "id": "nPrnTU3GRlO0",
        "outputId": "8a595be0-fb85-4698-f697-f80533324eba"
      },
      "execution_count": 21,
      "outputs": [
        {
          "output_type": "execute_result",
          "data": {
            "text/plain": [
              "'aeiouAEIOU'"
            ],
            "application/vnd.google.colaboratory.intrinsic+json": {
              "type": "string"
            }
          },
          "metadata": {},
          "execution_count": 21
        }
      ]
    },
    {
      "cell_type": "code",
      "source": [
        "vow= \"aeiou\"\n",
        "\n",
        "len(vow)"
      ],
      "metadata": {
        "colab": {
          "base_uri": "https://localhost:8080/"
        },
        "id": "I6rEP1zbR8un",
        "outputId": "182dc399-202a-406e-ffe8-96e8656ea195"
      },
      "execution_count": 22,
      "outputs": [
        {
          "output_type": "execute_result",
          "data": {
            "text/plain": [
              "5"
            ]
          },
          "metadata": {},
          "execution_count": 22
        }
      ]
    },
    {
      "cell_type": "code",
      "source": [
        "tuples = [(\"one\", 1), (\"two\", 2), (\"three\", 3)]\n",
        "print(dict(tuples))\n"
      ],
      "metadata": {
        "colab": {
          "base_uri": "https://localhost:8080/"
        },
        "id": "vsYhCdCMSB_K",
        "outputId": "495908a9-9af3-4099-8a8b-92941b5c9588"
      },
      "execution_count": 23,
      "outputs": [
        {
          "output_type": "stream",
          "name": "stdout",
          "text": [
            "{'one': 1, 'two': 2, 'three': 3}\n"
          ]
        }
      ]
    },
    {
      "cell_type": "code",
      "source": [
        "string = input(\"Enter a string \")\n",
        "is_palindrome = string == string[::-1]\n",
        "print(f\"The string is a palindrome: {is_palindrome}\")\n"
      ],
      "metadata": {
        "colab": {
          "base_uri": "https://localhost:8080/"
        },
        "id": "Q0G__yPvSUa3",
        "outputId": "4435c34e-e1e8-45bc-c248-315dd1a733ac"
      },
      "execution_count": 25,
      "outputs": [
        {
          "output_type": "stream",
          "name": "stdout",
          "text": [
            "Enter a string suraj\n",
            "The string is a palindrome: False\n"
          ]
        }
      ]
    },
    {
      "cell_type": "code",
      "source": [
        "string = input(\"Enter a string \")\n",
        "is_palindrome = string == string[::-1]\n",
        "if is_palindrome is True:\n",
        "  print(\"It is Palindrome\")\n",
        "else:\n",
        "  print(\"It is not Palindrome\")"
      ],
      "metadata": {
        "colab": {
          "base_uri": "https://localhost:8080/"
        },
        "id": "mSMKdEr9TrHN",
        "outputId": "e94ec5a5-9500-4685-b4ec-e95a3f9eaf4c"
      },
      "execution_count": 26,
      "outputs": [
        {
          "output_type": "stream",
          "name": "stdout",
          "text": [
            "Enter a string suraj\n",
            "It is not Palindrome\n"
          ]
        }
      ]
    },
    {
      "cell_type": "code",
      "source": [],
      "metadata": {
        "id": "YfLMLt6TT_VD"
      },
      "execution_count": null,
      "outputs": []
    }
  ]
}