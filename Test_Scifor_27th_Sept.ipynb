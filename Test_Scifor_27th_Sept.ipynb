{
 "cells": [
  {
   "cell_type": "code",
   "execution_count": 1,
   "id": "1ce2c008",
   "metadata": {},
   "outputs": [],
   "source": [
    "import numpy as np\n",
    "import pandas as pd\n",
    "import os\n",
    "import matplotlib.pyplot as plt\n",
    "\n",
    "import warnings\n",
    "warnings.filterwarnings('ignore')"
   ]
  },
  {
   "cell_type": "code",
   "execution_count": 118,
   "id": "e004f1f0",
   "metadata": {},
   "outputs": [
    {
     "data": {
      "text/plain": [
       "'C:\\\\Users\\\\skv96\\\\Downloads\\\\Project 2.0\\\\Project 6.0'"
      ]
     },
     "execution_count": 118,
     "metadata": {},
     "output_type": "execute_result"
    }
   ],
   "source": [
    "os.getcwd()"
   ]
  },
  {
   "cell_type": "code",
   "execution_count": 119,
   "id": "67d21c18",
   "metadata": {},
   "outputs": [],
   "source": [
    "os.chdir('C:\\\\Users\\\\skv96\\\\Downloads\\\\Project 2.0\\\\Project 6.0')"
   ]
  },
  {
   "cell_type": "code",
   "execution_count": 199,
   "id": "b701c17a",
   "metadata": {},
   "outputs": [],
   "source": [
    "data = pd.read_csv('Japan_used_cars_datasets.csv')"
   ]
  },
  {
   "cell_type": "code",
   "execution_count": 121,
   "id": "813b170b",
   "metadata": {},
   "outputs": [
    {
     "data": {
      "text/html": [
       "<div>\n",
       "<style scoped>\n",
       "    .dataframe tbody tr th:only-of-type {\n",
       "        vertical-align: middle;\n",
       "    }\n",
       "\n",
       "    .dataframe tbody tr th {\n",
       "        vertical-align: top;\n",
       "    }\n",
       "\n",
       "    .dataframe thead th {\n",
       "        text-align: right;\n",
       "    }\n",
       "</style>\n",
       "<table border=\"1\" class=\"dataframe\">\n",
       "  <thead>\n",
       "    <tr style=\"text-align: right;\">\n",
       "      <th></th>\n",
       "      <th>id</th>\n",
       "      <th>price</th>\n",
       "      <th>mark</th>\n",
       "      <th>model</th>\n",
       "      <th>year</th>\n",
       "      <th>mileage</th>\n",
       "      <th>engine_capacity</th>\n",
       "      <th>transmission</th>\n",
       "      <th>drive</th>\n",
       "      <th>hand_drive</th>\n",
       "      <th>fuel</th>\n",
       "    </tr>\n",
       "  </thead>\n",
       "  <tbody>\n",
       "    <tr>\n",
       "      <th>0</th>\n",
       "      <td>0</td>\n",
       "      <td>80</td>\n",
       "      <td>nissan</td>\n",
       "      <td>march</td>\n",
       "      <td>2003</td>\n",
       "      <td>80000</td>\n",
       "      <td>1240</td>\n",
       "      <td>at</td>\n",
       "      <td>2wd</td>\n",
       "      <td>rhd</td>\n",
       "      <td>gasoline</td>\n",
       "    </tr>\n",
       "    <tr>\n",
       "      <th>1</th>\n",
       "      <td>1</td>\n",
       "      <td>110</td>\n",
       "      <td>nissan</td>\n",
       "      <td>march</td>\n",
       "      <td>2010</td>\n",
       "      <td>53000</td>\n",
       "      <td>1200</td>\n",
       "      <td>at</td>\n",
       "      <td>2wd</td>\n",
       "      <td>rhd</td>\n",
       "      <td>gasoline</td>\n",
       "    </tr>\n",
       "    <tr>\n",
       "      <th>2</th>\n",
       "      <td>2</td>\n",
       "      <td>165</td>\n",
       "      <td>nissan</td>\n",
       "      <td>lafesta</td>\n",
       "      <td>2005</td>\n",
       "      <td>47690</td>\n",
       "      <td>2000</td>\n",
       "      <td>at</td>\n",
       "      <td>2wd</td>\n",
       "      <td>rhd</td>\n",
       "      <td>gasoline</td>\n",
       "    </tr>\n",
       "    <tr>\n",
       "      <th>3</th>\n",
       "      <td>3</td>\n",
       "      <td>190</td>\n",
       "      <td>toyota</td>\n",
       "      <td>avensis</td>\n",
       "      <td>2008</td>\n",
       "      <td>130661</td>\n",
       "      <td>1990</td>\n",
       "      <td>at</td>\n",
       "      <td>2wd</td>\n",
       "      <td>rhd</td>\n",
       "      <td>gasoline</td>\n",
       "    </tr>\n",
       "    <tr>\n",
       "      <th>4</th>\n",
       "      <td>4</td>\n",
       "      <td>190</td>\n",
       "      <td>daihatsu</td>\n",
       "      <td>mira</td>\n",
       "      <td>2006</td>\n",
       "      <td>66300</td>\n",
       "      <td>660</td>\n",
       "      <td>at</td>\n",
       "      <td>2wd</td>\n",
       "      <td>rhd</td>\n",
       "      <td>gasoline</td>\n",
       "    </tr>\n",
       "  </tbody>\n",
       "</table>\n",
       "</div>"
      ],
      "text/plain": [
       "   id  price      mark    model  year  mileage  engine_capacity transmission  \\\n",
       "0   0     80    nissan    march  2003    80000             1240           at   \n",
       "1   1    110    nissan    march  2010    53000             1200           at   \n",
       "2   2    165    nissan  lafesta  2005    47690             2000           at   \n",
       "3   3    190    toyota  avensis  2008   130661             1990           at   \n",
       "4   4    190  daihatsu     mira  2006    66300              660           at   \n",
       "\n",
       "  drive hand_drive      fuel  \n",
       "0   2wd        rhd  gasoline  \n",
       "1   2wd        rhd  gasoline  \n",
       "2   2wd        rhd  gasoline  \n",
       "3   2wd        rhd  gasoline  \n",
       "4   2wd        rhd  gasoline  "
      ]
     },
     "execution_count": 121,
     "metadata": {},
     "output_type": "execute_result"
    }
   ],
   "source": [
    "data.head()"
   ]
  },
  {
   "cell_type": "code",
   "execution_count": 122,
   "id": "93335365",
   "metadata": {},
   "outputs": [
    {
     "data": {
      "text/plain": [
       "(2318, 11)"
      ]
     },
     "execution_count": 122,
     "metadata": {},
     "output_type": "execute_result"
    }
   ],
   "source": [
    "data.shape"
   ]
  },
  {
   "cell_type": "code",
   "execution_count": 123,
   "id": "24a4f021",
   "metadata": {},
   "outputs": [],
   "source": [
    "data = data.drop(columns = 'id')"
   ]
  },
  {
   "cell_type": "code",
   "execution_count": 124,
   "id": "84920179",
   "metadata": {},
   "outputs": [
    {
     "data": {
      "text/plain": [
       "(2318, 10)"
      ]
     },
     "execution_count": 124,
     "metadata": {},
     "output_type": "execute_result"
    }
   ],
   "source": [
    "data.shape"
   ]
  },
  {
   "cell_type": "code",
   "execution_count": 125,
   "id": "6e6f69d5",
   "metadata": {},
   "outputs": [
    {
     "data": {
      "text/html": [
       "<div>\n",
       "<style scoped>\n",
       "    .dataframe tbody tr th:only-of-type {\n",
       "        vertical-align: middle;\n",
       "    }\n",
       "\n",
       "    .dataframe tbody tr th {\n",
       "        vertical-align: top;\n",
       "    }\n",
       "\n",
       "    .dataframe thead th {\n",
       "        text-align: right;\n",
       "    }\n",
       "</style>\n",
       "<table border=\"1\" class=\"dataframe\">\n",
       "  <thead>\n",
       "    <tr style=\"text-align: right;\">\n",
       "      <th></th>\n",
       "      <th>price</th>\n",
       "      <th>mark</th>\n",
       "      <th>model</th>\n",
       "      <th>year</th>\n",
       "      <th>mileage</th>\n",
       "      <th>engine_capacity</th>\n",
       "      <th>transmission</th>\n",
       "      <th>drive</th>\n",
       "      <th>hand_drive</th>\n",
       "      <th>fuel</th>\n",
       "    </tr>\n",
       "  </thead>\n",
       "  <tbody>\n",
       "    <tr>\n",
       "      <th>0</th>\n",
       "      <td>80</td>\n",
       "      <td>nissan</td>\n",
       "      <td>march</td>\n",
       "      <td>2003</td>\n",
       "      <td>80000</td>\n",
       "      <td>1240</td>\n",
       "      <td>at</td>\n",
       "      <td>2wd</td>\n",
       "      <td>rhd</td>\n",
       "      <td>gasoline</td>\n",
       "    </tr>\n",
       "    <tr>\n",
       "      <th>1</th>\n",
       "      <td>110</td>\n",
       "      <td>nissan</td>\n",
       "      <td>march</td>\n",
       "      <td>2010</td>\n",
       "      <td>53000</td>\n",
       "      <td>1200</td>\n",
       "      <td>at</td>\n",
       "      <td>2wd</td>\n",
       "      <td>rhd</td>\n",
       "      <td>gasoline</td>\n",
       "    </tr>\n",
       "    <tr>\n",
       "      <th>2</th>\n",
       "      <td>165</td>\n",
       "      <td>nissan</td>\n",
       "      <td>lafesta</td>\n",
       "      <td>2005</td>\n",
       "      <td>47690</td>\n",
       "      <td>2000</td>\n",
       "      <td>at</td>\n",
       "      <td>2wd</td>\n",
       "      <td>rhd</td>\n",
       "      <td>gasoline</td>\n",
       "    </tr>\n",
       "    <tr>\n",
       "      <th>3</th>\n",
       "      <td>190</td>\n",
       "      <td>toyota</td>\n",
       "      <td>avensis</td>\n",
       "      <td>2008</td>\n",
       "      <td>130661</td>\n",
       "      <td>1990</td>\n",
       "      <td>at</td>\n",
       "      <td>2wd</td>\n",
       "      <td>rhd</td>\n",
       "      <td>gasoline</td>\n",
       "    </tr>\n",
       "    <tr>\n",
       "      <th>4</th>\n",
       "      <td>190</td>\n",
       "      <td>daihatsu</td>\n",
       "      <td>mira</td>\n",
       "      <td>2006</td>\n",
       "      <td>66300</td>\n",
       "      <td>660</td>\n",
       "      <td>at</td>\n",
       "      <td>2wd</td>\n",
       "      <td>rhd</td>\n",
       "      <td>gasoline</td>\n",
       "    </tr>\n",
       "  </tbody>\n",
       "</table>\n",
       "</div>"
      ],
      "text/plain": [
       "   price      mark    model  year  mileage  engine_capacity transmission  \\\n",
       "0     80    nissan    march  2003    80000             1240           at   \n",
       "1    110    nissan    march  2010    53000             1200           at   \n",
       "2    165    nissan  lafesta  2005    47690             2000           at   \n",
       "3    190    toyota  avensis  2008   130661             1990           at   \n",
       "4    190  daihatsu     mira  2006    66300              660           at   \n",
       "\n",
       "  drive hand_drive      fuel  \n",
       "0   2wd        rhd  gasoline  \n",
       "1   2wd        rhd  gasoline  \n",
       "2   2wd        rhd  gasoline  \n",
       "3   2wd        rhd  gasoline  \n",
       "4   2wd        rhd  gasoline  "
      ]
     },
     "execution_count": 125,
     "metadata": {},
     "output_type": "execute_result"
    }
   ],
   "source": [
    "data.head()"
   ]
  },
  {
   "cell_type": "code",
   "execution_count": 126,
   "id": "7299dfd9",
   "metadata": {},
   "outputs": [
    {
     "name": "stdout",
     "output_type": "stream",
     "text": [
      "<class 'pandas.core.frame.DataFrame'>\n",
      "RangeIndex: 2318 entries, 0 to 2317\n",
      "Data columns (total 10 columns):\n",
      " #   Column           Non-Null Count  Dtype \n",
      "---  ------           --------------  ----- \n",
      " 0   price            2318 non-null   int64 \n",
      " 1   mark             2318 non-null   object\n",
      " 2   model            2318 non-null   object\n",
      " 3   year             2318 non-null   int64 \n",
      " 4   mileage          2318 non-null   int64 \n",
      " 5   engine_capacity  2318 non-null   int64 \n",
      " 6   transmission     2318 non-null   object\n",
      " 7   drive            2318 non-null   object\n",
      " 8   hand_drive       2318 non-null   object\n",
      " 9   fuel             2318 non-null   object\n",
      "dtypes: int64(4), object(6)\n",
      "memory usage: 181.2+ KB\n"
     ]
    }
   ],
   "source": [
    "data.info()"
   ]
  },
  {
   "cell_type": "code",
   "execution_count": 127,
   "id": "a79b3320",
   "metadata": {},
   "outputs": [
    {
     "data": {
      "text/plain": [
       "28"
      ]
     },
     "execution_count": 127,
     "metadata": {},
     "output_type": "execute_result"
    }
   ],
   "source": [
    "data['mark'].nunique()"
   ]
  },
  {
   "cell_type": "code",
   "execution_count": 128,
   "id": "ae3e5f0f",
   "metadata": {},
   "outputs": [
    {
     "data": {
      "text/plain": [
       "mark\n",
       "toyota           1047\n",
       "honda             382\n",
       "nissan            320\n",
       "mazda             148\n",
       "suzuki            126\n",
       "mitsubishi         65\n",
       "daihatsu           56\n",
       "subaru             54\n",
       "volkswagen         52\n",
       "bmw                27\n",
       "hyundai             9\n",
       "mercedes-benz       5\n",
       "kia motors          4\n",
       "isuzu               3\n",
       "audi                3\n",
       "smart               2\n",
       "volvo               2\n",
       "land rover          2\n",
       "peugeot             2\n",
       "hino                1\n",
       "mitsuoka            1\n",
       "ford                1\n",
       "gm                  1\n",
       "citroen             1\n",
       "opel                1\n",
       "chrysler            1\n",
       "kubota              1\n",
       "jaguar              1\n",
       "Name: count, dtype: int64"
      ]
     },
     "execution_count": 128,
     "metadata": {},
     "output_type": "execute_result"
    }
   ],
   "source": [
    "data['mark'].value_counts()"
   ]
  },
  {
   "cell_type": "code",
   "execution_count": 129,
   "id": "acd0a40d",
   "metadata": {},
   "outputs": [
    {
     "data": {
      "text/html": [
       "<div>\n",
       "<style scoped>\n",
       "    .dataframe tbody tr th:only-of-type {\n",
       "        vertical-align: middle;\n",
       "    }\n",
       "\n",
       "    .dataframe tbody tr th {\n",
       "        vertical-align: top;\n",
       "    }\n",
       "\n",
       "    .dataframe thead th {\n",
       "        text-align: right;\n",
       "    }\n",
       "</style>\n",
       "<table border=\"1\" class=\"dataframe\">\n",
       "  <thead>\n",
       "    <tr style=\"text-align: right;\">\n",
       "      <th></th>\n",
       "      <th>price</th>\n",
       "      <th>year</th>\n",
       "      <th>mileage</th>\n",
       "      <th>engine_capacity</th>\n",
       "    </tr>\n",
       "  </thead>\n",
       "  <tbody>\n",
       "    <tr>\n",
       "      <th>count</th>\n",
       "      <td>2318.000000</td>\n",
       "      <td>2318.000000</td>\n",
       "      <td>2318.000000</td>\n",
       "      <td>2318.000000</td>\n",
       "    </tr>\n",
       "    <tr>\n",
       "      <th>mean</th>\n",
       "      <td>971.522433</td>\n",
       "      <td>2005.972390</td>\n",
       "      <td>100013.194996</td>\n",
       "      <td>1507.010785</td>\n",
       "    </tr>\n",
       "    <tr>\n",
       "      <th>std</th>\n",
       "      <td>288.673112</td>\n",
       "      <td>3.698863</td>\n",
       "      <td>52512.478883</td>\n",
       "      <td>549.585170</td>\n",
       "    </tr>\n",
       "    <tr>\n",
       "      <th>min</th>\n",
       "      <td>80.000000</td>\n",
       "      <td>1979.000000</td>\n",
       "      <td>2000.000000</td>\n",
       "      <td>9.000000</td>\n",
       "    </tr>\n",
       "    <tr>\n",
       "      <th>25%</th>\n",
       "      <td>776.000000</td>\n",
       "      <td>2004.000000</td>\n",
       "      <td>67000.000000</td>\n",
       "      <td>1300.000000</td>\n",
       "    </tr>\n",
       "    <tr>\n",
       "      <th>50%</th>\n",
       "      <td>1000.000000</td>\n",
       "      <td>2006.000000</td>\n",
       "      <td>94000.000000</td>\n",
       "      <td>1490.000000</td>\n",
       "    </tr>\n",
       "    <tr>\n",
       "      <th>75%</th>\n",
       "      <td>1213.000000</td>\n",
       "      <td>2009.000000</td>\n",
       "      <td>124000.000000</td>\n",
       "      <td>1800.000000</td>\n",
       "    </tr>\n",
       "    <tr>\n",
       "      <th>max</th>\n",
       "      <td>1400.000000</td>\n",
       "      <td>2015.000000</td>\n",
       "      <td>790000.000000</td>\n",
       "      <td>12340.000000</td>\n",
       "    </tr>\n",
       "  </tbody>\n",
       "</table>\n",
       "</div>"
      ],
      "text/plain": [
       "             price         year        mileage  engine_capacity\n",
       "count  2318.000000  2318.000000    2318.000000      2318.000000\n",
       "mean    971.522433  2005.972390  100013.194996      1507.010785\n",
       "std     288.673112     3.698863   52512.478883       549.585170\n",
       "min      80.000000  1979.000000    2000.000000         9.000000\n",
       "25%     776.000000  2004.000000   67000.000000      1300.000000\n",
       "50%    1000.000000  2006.000000   94000.000000      1490.000000\n",
       "75%    1213.000000  2009.000000  124000.000000      1800.000000\n",
       "max    1400.000000  2015.000000  790000.000000     12340.000000"
      ]
     },
     "execution_count": 129,
     "metadata": {},
     "output_type": "execute_result"
    }
   ],
   "source": [
    "data.describe()"
   ]
  },
  {
   "cell_type": "code",
   "execution_count": 130,
   "id": "23858892",
   "metadata": {},
   "outputs": [
    {
     "data": {
      "text/plain": [
       "array(['march', 'lafesta', 'avensis', 'mira', 'passat', 'bongo van',\n",
       "       'step wgn', 'sambar', 'inspire', 'mercedes-benz others', 'note',\n",
       "       'passo', 'impreza', 'kubota others', 'life', 'progres',\n",
       "       'cube cubic', 'cube', 'a-class', 'coltplus', 'mr wagon',\n",
       "       'pajero mini', 'fit', 'legacy b4', 'vitz', 'mark ii blit',\n",
       "       'insight', 'move', 'tanto', 'terios kid', 'az-wagon', 'coo',\n",
       "       'verisa', 'swift', 'delica d2', 'tiida', 'sienta', 'mini', 'colt',\n",
       "       'platz', 'bluebird sylphy', 'eclipse', 'bb', 'moco',\n",
       "       'clipper truck', 'esse', 'ek wagon', 'polo', 'x-trail',\n",
       "       'atenza sport', 'ad van', 'pixis space', 'freed spike', 'stream',\n",
       "       'alto', 'raum', 'wish', 'every', 'demio', 'jimny', 'premacy',\n",
       "       'cr-v', 'lapin', 'delica', 'wagon r', 'lancer', 'naked', 'odyssey',\n",
       "       'ractis', 'porte', 'corolla rumion', 'tiida latio', 'voxy',\n",
       "       'carol', 'sunny', 'bongo truck', 'boon', 's-mx', 'pt cruiser',\n",
       "       'golf', 'ad expert', 'fit hybrid', 'serena', 'edix', 'move custom',\n",
       "       'impreza anesis', 'estima', 'carry truck', 'solio', 'mpv',\n",
       "       'vanette van', 'accord', 'tribute', 'pajero io', 'noah',\n",
       "       'vanette truck', 'delica truck', 'lancer cargo', 'atenza wagon',\n",
       "       'atenza', 'vamos', 'r2', 'fun cargo', 'airwave', 'ipsum',\n",
       "       'verossa', 'forfour', 'elgrand', 'ist', 'mirage',\n",
       "       'chevrolet others', 'corolla spacio', 'aerio', 'altezza', 'vectra',\n",
       "       'minicab truck', 'outback', 'mark x', 'gaia', 'alphard', 'caldina',\n",
       "       'alphard g', 'brevis', 'axela sport', 'alphard v', 'pleo',\n",
       "       'minicab van', 'nv100clipper', 'sx4', 'legacy', 'aristo',\n",
       "       'palette', 'wizard', 'forester', 'grand escudo', 'jetta',\n",
       "       'corolla axio', 'discovery', 'stagea', 'dion', 'mira avy',\n",
       "       'mark ii', 'corolla runx', 'hijet cargo', 'biante', 'carol eco',\n",
       "       'axela', 'cami', 'hijet truck', 'e-class', 'hr-v', 'elysion',\n",
       "       'crown comfort', 'canter', 'impreza sportswagon', 'corolla ii',\n",
       "       '207', 'sx4 sedan', 'townace van', 'allion', 'passo sette',\n",
       "       'crown', 'civic ferio', 'fuga', 'legacy touring wagon', 'tucson',\n",
       "       'gloria hardtop', '3 series', 'x-trek', 'stella', 'bongo',\n",
       "       'bongo friendee', 'a4', 'a4 avant', 'fit shuttle', 'acty truck',\n",
       "       'sambar truck', 'freed', 'isis', 'exiga', 'skyline', 'allex',\n",
       "       'splash', 'titan dash', 'chaser', 'voltz', 'visto', 'civic hybrid',\n",
       "       'wingroad', 'murano', 'probox', 'c-class', 'corolla sedan',\n",
       "       'xsara picasso', 'rx-8', 'corona premio', 'comfort', 'miragino',\n",
       "       'new beetle', 'viewt', 'canter guts', 'regius wagon', 'v70',\n",
       "       'mira es', 'acty van', 'duet', 'b-class', '307', 'belta', 'otti',\n",
       "       'mini cooper', 'ek sport', 'escudo', 'succeed van', 'atrai wagon',\n",
       "       'atrai', 'zest', 'mdx', 'galant fortis', 'terios', 'clipper van',\n",
       "       '1 series', 'townace noah', 'premio', 'outlander', 'opa',\n",
       "       'bongo brawny truck', 'masterace surf', 'move latte', 'santa fe',\n",
       "       'terracan', 'teana', 'cima', 'auris', 'corolla fielder', 'ad',\n",
       "       'freelander', 'town box', 'probox van', 'golf variant', 'windom',\n",
       "       'cerato', 'pride', 'escape', 'landy', 'vivio', 'spade', 'clipper',\n",
       "       'dutro', 'elf truck', 'carina', 'wagon r rr', 'x-type', 'trajet',\n",
       "       'minica', 'c30', 'z', 'estima t'], dtype=object)"
      ]
     },
     "execution_count": 130,
     "metadata": {},
     "output_type": "execute_result"
    }
   ],
   "source": [
    "data.model.unique()"
   ]
  },
  {
   "cell_type": "code",
   "execution_count": 131,
   "id": "13da1dbb",
   "metadata": {},
   "outputs": [
    {
     "data": {
      "text/plain": [
       "258"
      ]
     },
     "execution_count": 131,
     "metadata": {},
     "output_type": "execute_result"
    }
   ],
   "source": [
    "data.model.nunique()"
   ]
  },
  {
   "cell_type": "code",
   "execution_count": 132,
   "id": "4406cd35",
   "metadata": {},
   "outputs": [
    {
     "name": "stdout",
     "output_type": "stream",
     "text": [
      "<class 'pandas.core.frame.DataFrame'>\n",
      "RangeIndex: 2318 entries, 0 to 2317\n",
      "Data columns (total 10 columns):\n",
      " #   Column           Non-Null Count  Dtype \n",
      "---  ------           --------------  ----- \n",
      " 0   price            2318 non-null   int64 \n",
      " 1   mark             2318 non-null   object\n",
      " 2   model            2318 non-null   object\n",
      " 3   year             2318 non-null   int64 \n",
      " 4   mileage          2318 non-null   int64 \n",
      " 5   engine_capacity  2318 non-null   int64 \n",
      " 6   transmission     2318 non-null   object\n",
      " 7   drive            2318 non-null   object\n",
      " 8   hand_drive       2318 non-null   object\n",
      " 9   fuel             2318 non-null   object\n",
      "dtypes: int64(4), object(6)\n",
      "memory usage: 181.2+ KB\n"
     ]
    }
   ],
   "source": [
    "data.info()"
   ]
  },
  {
   "cell_type": "code",
   "execution_count": 133,
   "id": "7995436b",
   "metadata": {},
   "outputs": [
    {
     "data": {
      "text/plain": [
       "array(['at', 'mt', 'cvt'], dtype=object)"
      ]
     },
     "execution_count": 133,
     "metadata": {},
     "output_type": "execute_result"
    }
   ],
   "source": [
    "data['transmission'].unique()"
   ]
  },
  {
   "cell_type": "code",
   "execution_count": 134,
   "id": "db4bc329",
   "metadata": {},
   "outputs": [
    {
     "data": {
      "text/plain": [
       "transmission\n",
       "at     2171\n",
       "mt      117\n",
       "cvt      30\n",
       "Name: count, dtype: int64"
      ]
     },
     "execution_count": 134,
     "metadata": {},
     "output_type": "execute_result"
    }
   ],
   "source": [
    "data['transmission'].value_counts()"
   ]
  },
  {
   "cell_type": "code",
   "execution_count": 135,
   "id": "b8cb6d50",
   "metadata": {},
   "outputs": [
    {
     "data": {
      "text/plain": [
       "array(['2wd', '4wd', 'awd'], dtype=object)"
      ]
     },
     "execution_count": 135,
     "metadata": {},
     "output_type": "execute_result"
    }
   ],
   "source": [
    "data.drive.unique()"
   ]
  },
  {
   "cell_type": "code",
   "execution_count": 136,
   "id": "f99cbfe2",
   "metadata": {},
   "outputs": [
    {
     "data": {
      "text/plain": [
       "drive\n",
       "2wd    2121\n",
       "4wd     192\n",
       "awd       5\n",
       "Name: count, dtype: int64"
      ]
     },
     "execution_count": 136,
     "metadata": {},
     "output_type": "execute_result"
    }
   ],
   "source": [
    "data.drive.value_counts()"
   ]
  },
  {
   "cell_type": "code",
   "execution_count": 137,
   "id": "51daac56",
   "metadata": {},
   "outputs": [
    {
     "data": {
      "text/plain": [
       "array(['rhd', 'center', 'lhd'], dtype=object)"
      ]
     },
     "execution_count": 137,
     "metadata": {},
     "output_type": "execute_result"
    }
   ],
   "source": [
    "data['hand_drive'].unique()"
   ]
  },
  {
   "cell_type": "code",
   "execution_count": 138,
   "id": "01897bc7",
   "metadata": {},
   "outputs": [
    {
     "data": {
      "text/plain": [
       "hand_drive\n",
       "rhd       2301\n",
       "lhd         16\n",
       "center       1\n",
       "Name: count, dtype: int64"
      ]
     },
     "execution_count": 138,
     "metadata": {},
     "output_type": "execute_result"
    }
   ],
   "source": [
    "data['hand_drive'].value_counts()"
   ]
  },
  {
   "cell_type": "code",
   "execution_count": 139,
   "id": "03e5b980",
   "metadata": {},
   "outputs": [
    {
     "data": {
      "text/plain": [
       "array(['gasoline', 'diesel', 'hybrid', 'lpg', 'cng'], dtype=object)"
      ]
     },
     "execution_count": 139,
     "metadata": {},
     "output_type": "execute_result"
    }
   ],
   "source": [
    "data.fuel.unique()"
   ]
  },
  {
   "cell_type": "code",
   "execution_count": 140,
   "id": "b275dd90",
   "metadata": {},
   "outputs": [
    {
     "data": {
      "text/plain": [
       "fuel\n",
       "gasoline    2290\n",
       "diesel        18\n",
       "lpg            7\n",
       "hybrid         2\n",
       "cng            1\n",
       "Name: count, dtype: int64"
      ]
     },
     "execution_count": 140,
     "metadata": {},
     "output_type": "execute_result"
    }
   ],
   "source": [
    "data.fuel.value_counts()"
   ]
  },
  {
   "cell_type": "code",
   "execution_count": 141,
   "id": "ed462125",
   "metadata": {},
   "outputs": [
    {
     "data": {
      "text/plain": [
       "{'whiskers': [<matplotlib.lines.Line2D at 0x25afa70e4d0>,\n",
       "  <matplotlib.lines.Line2D at 0x25afa70eed0>],\n",
       " 'caps': [<matplotlib.lines.Line2D at 0x25afa70f910>,\n",
       "  <matplotlib.lines.Line2D at 0x25afa7182d0>],\n",
       " 'boxes': [<matplotlib.lines.Line2D at 0x25afa6b41d0>],\n",
       " 'medians': [<matplotlib.lines.Line2D at 0x25afa718c10>],\n",
       " 'fliers': [<matplotlib.lines.Line2D at 0x25afa7194d0>],\n",
       " 'means': []}"
      ]
     },
     "execution_count": 141,
     "metadata": {},
     "output_type": "execute_result"
    },
    {
     "data": {
      "image/png": "[encoded data removed]",
      "text/plain": [
       "<Figure size 640x480 with 1 Axes>"
      ]
     },
     "metadata": {},
     "output_type": "display_data"
    }
   ],
   "source": [
    "plt.boxplot(data['price'])"
   ]
  },
  {
   "cell_type": "code",
   "execution_count": 142,
   "id": "af60457a",
   "metadata": {},
   "outputs": [],
   "source": [
    "data1 =data"
   ]
  },
  {
   "cell_type": "code",
   "execution_count": 143,
   "id": "52f99133",
   "metadata": {},
   "outputs": [],
   "source": [
    "data1['encoded_mark']  = data1['mark'].map(data['mark'].value_counts())"
   ]
  },
  {
   "cell_type": "code",
   "execution_count": 144,
   "id": "5755dbd0",
   "metadata": {},
   "outputs": [
    {
     "name": "stdout",
     "output_type": "stream",
     "text": [
      "<class 'pandas.core.frame.DataFrame'>\n",
      "RangeIndex: 2318 entries, 0 to 2317\n",
      "Data columns (total 11 columns):\n",
      " #   Column           Non-Null Count  Dtype \n",
      "---  ------           --------------  ----- \n",
      " 0   price            2318 non-null   int64 \n",
      " 1   mark             2318 non-null   object\n",
      " 2   model            2318 non-null   object\n",
      " 3   year             2318 non-null   int64 \n",
      " 4   mileage          2318 non-null   int64 \n",
      " 5   engine_capacity  2318 non-null   int64 \n",
      " 6   transmission     2318 non-null   object\n",
      " 7   drive            2318 non-null   object\n",
      " 8   hand_drive       2318 non-null   object\n",
      " 9   fuel             2318 non-null   object\n",
      " 10  encoded_mark     2318 non-null   int64 \n",
      "dtypes: int64(5), object(6)\n",
      "memory usage: 199.3+ KB\n"
     ]
    }
   ],
   "source": [
    "data1.info()"
   ]
  },
  {
   "cell_type": "code",
   "execution_count": 145,
   "id": "3bbe136b",
   "metadata": {},
   "outputs": [],
   "source": [
    "data1['encoded_model']  = data1['model'].map(data['model'].value_counts())"
   ]
  },
  {
   "cell_type": "code",
   "execution_count": 146,
   "id": "b0dcfe11",
   "metadata": {},
   "outputs": [
    {
     "name": "stdout",
     "output_type": "stream",
     "text": [
      "<class 'pandas.core.frame.DataFrame'>\n",
      "RangeIndex: 2318 entries, 0 to 2317\n",
      "Data columns (total 12 columns):\n",
      " #   Column           Non-Null Count  Dtype \n",
      "---  ------           --------------  ----- \n",
      " 0   price            2318 non-null   int64 \n",
      " 1   mark             2318 non-null   object\n",
      " 2   model            2318 non-null   object\n",
      " 3   year             2318 non-null   int64 \n",
      " 4   mileage          2318 non-null   int64 \n",
      " 5   engine_capacity  2318 non-null   int64 \n",
      " 6   transmission     2318 non-null   object\n",
      " 7   drive            2318 non-null   object\n",
      " 8   hand_drive       2318 non-null   object\n",
      " 9   fuel             2318 non-null   object\n",
      " 10  encoded_mark     2318 non-null   int64 \n",
      " 11  encoded_model    2318 non-null   int64 \n",
      "dtypes: int64(6), object(6)\n",
      "memory usage: 217.4+ KB\n"
     ]
    }
   ],
   "source": [
    "data1.info()"
   ]
  },
  {
   "cell_type": "code",
   "execution_count": 147,
   "id": "8564593a",
   "metadata": {},
   "outputs": [],
   "source": [
    "from sklearn.preprocessing import LabelEncoder\n",
    "le = LabelEncoder()"
   ]
  },
  {
   "cell_type": "code",
   "execution_count": 148,
   "id": "349ecc4d",
   "metadata": {},
   "outputs": [],
   "source": [
    "data1['transmission']  = le.fit_transform(data1['transmission'])\n",
    "data1['drive']  = le.fit_transform(data1['drive'])\n",
    "data1['hand_drive']  = le.fit_transform(data1['hand_drive'])\n",
    "data1['fuel']  = le.fit_transform(data1['hand_drive'])"
   ]
  },
  {
   "cell_type": "code",
   "execution_count": 151,
   "id": "f97b3c53",
   "metadata": {},
   "outputs": [
    {
     "name": "stdout",
     "output_type": "stream",
     "text": [
      "<class 'pandas.core.frame.DataFrame'>\n",
      "RangeIndex: 2318 entries, 0 to 2317\n",
      "Data columns (total 11 columns):\n",
      " #   Column           Non-Null Count  Dtype \n",
      "---  ------           --------------  ----- \n",
      " 0   price            2318 non-null   int64 \n",
      " 1   mark             2318 non-null   object\n",
      " 2   year             2318 non-null   int64 \n",
      " 3   mileage          2318 non-null   int64 \n",
      " 4   engine_capacity  2318 non-null   int64 \n",
      " 5   transmission     2318 non-null   int32 \n",
      " 6   drive            2318 non-null   int32 \n",
      " 7   hand_drive       2318 non-null   int32 \n",
      " 8   fuel             2318 non-null   int64 \n",
      " 9   encoded_mark     2318 non-null   int64 \n",
      " 10  encoded_model    2318 non-null   int64 \n",
      "dtypes: int32(3), int64(7), object(1)\n",
      "memory usage: 172.2+ KB\n"
     ]
    }
   ],
   "source": [
    "data1.info()"
   ]
  },
  {
   "cell_type": "code",
   "execution_count": 150,
   "id": "1539a2db",
   "metadata": {},
   "outputs": [],
   "source": [
    "del data1['model']"
   ]
  },
  {
   "cell_type": "code",
   "execution_count": 152,
   "id": "dfa2200b",
   "metadata": {},
   "outputs": [],
   "source": [
    "del data1['mark']"
   ]
  },
  {
   "cell_type": "code",
   "execution_count": 153,
   "id": "9a99313b",
   "metadata": {},
   "outputs": [
    {
     "data": {
      "text/html": [
       "<div>\n",
       "<style scoped>\n",
       "    .dataframe tbody tr th:only-of-type {\n",
       "        vertical-align: middle;\n",
       "    }\n",
       "\n",
       "    .dataframe tbody tr th {\n",
       "        vertical-align: top;\n",
       "    }\n",
       "\n",
       "    .dataframe thead th {\n",
       "        text-align: right;\n",
       "    }\n",
       "</style>\n",
       "<table border=\"1\" class=\"dataframe\">\n",
       "  <thead>\n",
       "    <tr style=\"text-align: right;\">\n",
       "      <th></th>\n",
       "      <th>price</th>\n",
       "      <th>year</th>\n",
       "      <th>mileage</th>\n",
       "      <th>engine_capacity</th>\n",
       "      <th>transmission</th>\n",
       "      <th>drive</th>\n",
       "      <th>hand_drive</th>\n",
       "      <th>fuel</th>\n",
       "      <th>encoded_mark</th>\n",
       "      <th>encoded_model</th>\n",
       "    </tr>\n",
       "  </thead>\n",
       "  <tbody>\n",
       "    <tr>\n",
       "      <th>0</th>\n",
       "      <td>80</td>\n",
       "      <td>2003</td>\n",
       "      <td>80000</td>\n",
       "      <td>1240</td>\n",
       "      <td>0</td>\n",
       "      <td>0</td>\n",
       "      <td>2</td>\n",
       "      <td>2</td>\n",
       "      <td>320</td>\n",
       "      <td>55</td>\n",
       "    </tr>\n",
       "    <tr>\n",
       "      <th>1</th>\n",
       "      <td>110</td>\n",
       "      <td>2010</td>\n",
       "      <td>53000</td>\n",
       "      <td>1200</td>\n",
       "      <td>0</td>\n",
       "      <td>0</td>\n",
       "      <td>2</td>\n",
       "      <td>2</td>\n",
       "      <td>320</td>\n",
       "      <td>55</td>\n",
       "    </tr>\n",
       "    <tr>\n",
       "      <th>2</th>\n",
       "      <td>165</td>\n",
       "      <td>2005</td>\n",
       "      <td>47690</td>\n",
       "      <td>2000</td>\n",
       "      <td>0</td>\n",
       "      <td>0</td>\n",
       "      <td>2</td>\n",
       "      <td>2</td>\n",
       "      <td>320</td>\n",
       "      <td>4</td>\n",
       "    </tr>\n",
       "    <tr>\n",
       "      <th>3</th>\n",
       "      <td>190</td>\n",
       "      <td>2008</td>\n",
       "      <td>130661</td>\n",
       "      <td>1990</td>\n",
       "      <td>0</td>\n",
       "      <td>0</td>\n",
       "      <td>2</td>\n",
       "      <td>2</td>\n",
       "      <td>1047</td>\n",
       "      <td>11</td>\n",
       "    </tr>\n",
       "    <tr>\n",
       "      <th>4</th>\n",
       "      <td>190</td>\n",
       "      <td>2006</td>\n",
       "      <td>66300</td>\n",
       "      <td>660</td>\n",
       "      <td>0</td>\n",
       "      <td>0</td>\n",
       "      <td>2</td>\n",
       "      <td>2</td>\n",
       "      <td>56</td>\n",
       "      <td>9</td>\n",
       "    </tr>\n",
       "    <tr>\n",
       "      <th>...</th>\n",
       "      <td>...</td>\n",
       "      <td>...</td>\n",
       "      <td>...</td>\n",
       "      <td>...</td>\n",
       "      <td>...</td>\n",
       "      <td>...</td>\n",
       "      <td>...</td>\n",
       "      <td>...</td>\n",
       "      <td>...</td>\n",
       "      <td>...</td>\n",
       "    </tr>\n",
       "    <tr>\n",
       "      <th>2313</th>\n",
       "      <td>1400</td>\n",
       "      <td>2009</td>\n",
       "      <td>121000</td>\n",
       "      <td>996</td>\n",
       "      <td>0</td>\n",
       "      <td>0</td>\n",
       "      <td>2</td>\n",
       "      <td>2</td>\n",
       "      <td>1047</td>\n",
       "      <td>179</td>\n",
       "    </tr>\n",
       "    <tr>\n",
       "      <th>2314</th>\n",
       "      <td>1400</td>\n",
       "      <td>2003</td>\n",
       "      <td>101000</td>\n",
       "      <td>3000</td>\n",
       "      <td>0</td>\n",
       "      <td>0</td>\n",
       "      <td>2</td>\n",
       "      <td>2</td>\n",
       "      <td>1047</td>\n",
       "      <td>4</td>\n",
       "    </tr>\n",
       "    <tr>\n",
       "      <th>2315</th>\n",
       "      <td>1400</td>\n",
       "      <td>2005</td>\n",
       "      <td>101000</td>\n",
       "      <td>660</td>\n",
       "      <td>1</td>\n",
       "      <td>0</td>\n",
       "      <td>2</td>\n",
       "      <td>2</td>\n",
       "      <td>54</td>\n",
       "      <td>3</td>\n",
       "    </tr>\n",
       "    <tr>\n",
       "      <th>2316</th>\n",
       "      <td>1400</td>\n",
       "      <td>2000</td>\n",
       "      <td>170000</td>\n",
       "      <td>660</td>\n",
       "      <td>0</td>\n",
       "      <td>1</td>\n",
       "      <td>2</td>\n",
       "      <td>2</td>\n",
       "      <td>382</td>\n",
       "      <td>1</td>\n",
       "    </tr>\n",
       "    <tr>\n",
       "      <th>2317</th>\n",
       "      <td>1400</td>\n",
       "      <td>2005</td>\n",
       "      <td>72320</td>\n",
       "      <td>3000</td>\n",
       "      <td>0</td>\n",
       "      <td>0</td>\n",
       "      <td>2</td>\n",
       "      <td>2</td>\n",
       "      <td>1047</td>\n",
       "      <td>1</td>\n",
       "    </tr>\n",
       "  </tbody>\n",
       "</table>\n",
       "<p>2318 rows × 10 columns</p>\n",
       "</div>"
      ],
      "text/plain": [
       "      price  year  mileage  engine_capacity  transmission  drive  hand_drive  \\\n",
       "0        80  2003    80000             1240             0      0           2   \n",
       "1       110  2010    53000             1200             0      0           2   \n",
       "2       165  2005    47690             2000             0      0           2   \n",
       "3       190  2008   130661             1990             0      0           2   \n",
       "4       190  2006    66300              660             0      0           2   \n",
       "...     ...   ...      ...              ...           ...    ...         ...   \n",
       "2313   1400  2009   121000              996             0      0           2   \n",
       "2314   1400  2003   101000             3000             0      0           2   \n",
       "2315   1400  2005   101000              660             1      0           2   \n",
       "2316   1400  2000   170000              660             0      1           2   \n",
       "2317   1400  2005    72320             3000             0      0           2   \n",
       "\n",
       "      fuel  encoded_mark  encoded_model  \n",
       "0        2           320             55  \n",
       "1        2           320             55  \n",
       "2        2           320              4  \n",
       "3        2          1047             11  \n",
       "4        2            56              9  \n",
       "...    ...           ...            ...  \n",
       "2313     2          1047            179  \n",
       "2314     2          1047              4  \n",
       "2315     2            54              3  \n",
       "2316     2           382              1  \n",
       "2317     2          1047              1  \n",
       "\n",
       "[2318 rows x 10 columns]"
      ]
     },
     "execution_count": 153,
     "metadata": {},
     "output_type": "execute_result"
    }
   ],
   "source": [
    "data1"
   ]
  },
  {
   "cell_type": "code",
   "execution_count": 154,
   "id": "e8e9ea3b",
   "metadata": {},
   "outputs": [],
   "source": [
    "x = data.drop(columns = 'price')"
   ]
  },
  {
   "cell_type": "code",
   "execution_count": 155,
   "id": "e40da7fb",
   "metadata": {},
   "outputs": [],
   "source": [
    "y = data.price"
   ]
  },
  {
   "cell_type": "code",
   "execution_count": 157,
   "id": "daefc774",
   "metadata": {},
   "outputs": [
    {
     "data": {
      "text/plain": [
       "0         80\n",
       "1        110\n",
       "2        165\n",
       "3        190\n",
       "4        190\n",
       "        ... \n",
       "2313    1400\n",
       "2314    1400\n",
       "2315    1400\n",
       "2316    1400\n",
       "2317    1400\n",
       "Name: price, Length: 2318, dtype: int64"
      ]
     },
     "execution_count": 157,
     "metadata": {},
     "output_type": "execute_result"
    }
   ],
   "source": [
    "plt.figure(figsize = (20,15), facecolor = 'blue')"
   ]
  },
  {
   "cell_type": "code",
   "execution_count": 159,
   "id": "dc580b31",
   "metadata": {},
   "outputs": [
    {
     "data": {
      "text/html": [
       "<div>\n",
       "<style scoped>\n",
       "    .dataframe tbody tr th:only-of-type {\n",
       "        vertical-align: middle;\n",
       "    }\n",
       "\n",
       "    .dataframe tbody tr th {\n",
       "        vertical-align: top;\n",
       "    }\n",
       "\n",
       "    .dataframe thead th {\n",
       "        text-align: right;\n",
       "    }\n",
       "</style>\n",
       "<table border=\"1\" class=\"dataframe\">\n",
       "  <thead>\n",
       "    <tr style=\"text-align: right;\">\n",
       "      <th></th>\n",
       "      <th>price</th>\n",
       "      <th>year</th>\n",
       "      <th>mileage</th>\n",
       "      <th>engine_capacity</th>\n",
       "      <th>transmission</th>\n",
       "      <th>drive</th>\n",
       "      <th>hand_drive</th>\n",
       "      <th>fuel</th>\n",
       "      <th>encoded_mark</th>\n",
       "      <th>encoded_model</th>\n",
       "    </tr>\n",
       "  </thead>\n",
       "  <tbody>\n",
       "    <tr>\n",
       "      <th>0</th>\n",
       "      <td>80</td>\n",
       "      <td>2003</td>\n",
       "      <td>80000</td>\n",
       "      <td>1240</td>\n",
       "      <td>0</td>\n",
       "      <td>0</td>\n",
       "      <td>2</td>\n",
       "      <td>2</td>\n",
       "      <td>320</td>\n",
       "      <td>55</td>\n",
       "    </tr>\n",
       "    <tr>\n",
       "      <th>1</th>\n",
       "      <td>110</td>\n",
       "      <td>2010</td>\n",
       "      <td>53000</td>\n",
       "      <td>1200</td>\n",
       "      <td>0</td>\n",
       "      <td>0</td>\n",
       "      <td>2</td>\n",
       "      <td>2</td>\n",
       "      <td>320</td>\n",
       "      <td>55</td>\n",
       "    </tr>\n",
       "    <tr>\n",
       "      <th>2</th>\n",
       "      <td>165</td>\n",
       "      <td>2005</td>\n",
       "      <td>47690</td>\n",
       "      <td>2000</td>\n",
       "      <td>0</td>\n",
       "      <td>0</td>\n",
       "      <td>2</td>\n",
       "      <td>2</td>\n",
       "      <td>320</td>\n",
       "      <td>4</td>\n",
       "    </tr>\n",
       "    <tr>\n",
       "      <th>3</th>\n",
       "      <td>190</td>\n",
       "      <td>2008</td>\n",
       "      <td>130661</td>\n",
       "      <td>1990</td>\n",
       "      <td>0</td>\n",
       "      <td>0</td>\n",
       "      <td>2</td>\n",
       "      <td>2</td>\n",
       "      <td>1047</td>\n",
       "      <td>11</td>\n",
       "    </tr>\n",
       "    <tr>\n",
       "      <th>4</th>\n",
       "      <td>190</td>\n",
       "      <td>2006</td>\n",
       "      <td>66300</td>\n",
       "      <td>660</td>\n",
       "      <td>0</td>\n",
       "      <td>0</td>\n",
       "      <td>2</td>\n",
       "      <td>2</td>\n",
       "      <td>56</td>\n",
       "      <td>9</td>\n",
       "    </tr>\n",
       "  </tbody>\n",
       "</table>\n",
       "</div>"
      ],
      "text/plain": [
       "   price  year  mileage  engine_capacity  transmission  drive  hand_drive  \\\n",
       "0     80  2003    80000             1240             0      0           2   \n",
       "1    110  2010    53000             1200             0      0           2   \n",
       "2    165  2005    47690             2000             0      0           2   \n",
       "3    190  2008   130661             1990             0      0           2   \n",
       "4    190  2006    66300              660             0      0           2   \n",
       "\n",
       "   fuel  encoded_mark  encoded_model  \n",
       "0     2           320             55  \n",
       "1     2           320             55  \n",
       "2     2           320              4  \n",
       "3     2          1047             11  \n",
       "4     2            56              9  "
      ]
     },
     "execution_count": 159,
     "metadata": {},
     "output_type": "execute_result"
    }
   ],
   "source": [
    "data1.head()"
   ]
  },
  {
   "cell_type": "code",
   "execution_count": 160,
   "id": "79894158",
   "metadata": {},
   "outputs": [
    {
     "data": {
      "text/plain": [
       "(2318, 10)"
      ]
     },
     "execution_count": 160,
     "metadata": {},
     "output_type": "execute_result"
    }
   ],
   "source": [
    "data1.shape"
   ]
  },
  {
   "cell_type": "code",
   "execution_count": 163,
   "id": "8e09969a",
   "metadata": {},
   "outputs": [
    {
     "data": {
      "image/png": "[encoded data removed]",
      "text/plain": [
       "<Figure size 2000x1500 with 9 Axes>"
      ]
     },
     "metadata": {},
     "output_type": "display_data"
    }
   ],
   "source": [
    "plt.figure(figsize =(20,15), facecolor = 'red')\n",
    "plot = 1\n",
    "for i in x:\n",
    "    if plot <=10:\n",
    "        plt.subplot(2,5, plot)\n",
    "        plt.scatter(x[i],y)\n",
    "        plt.xlabel(i)\n",
    "        plt.ylabel('Price')\n",
    "    plot+=1\n",
    "plt.show()\n",
    "    "
   ]
  },
  {
   "cell_type": "code",
   "execution_count": 167,
   "id": "cf9644a1",
   "metadata": {},
   "outputs": [
    {
     "data": {
      "image/png": "[encoded data removed]",
      "text/plain": [
       "<Figure size 2000x1500 with 10 Axes>"
      ]
     },
     "metadata": {},
     "output_type": "display_data"
    }
   ],
   "source": [
    "import seaborn as sns\n",
    "\n",
    "plt.figure(figsize =(20,15), facecolor = 'red')\n",
    "plot = 1\n",
    "for i in data1:\n",
    "    if plot <=10:\n",
    "        plt.subplot(2,5, plot)\n",
    "        sns.distplot(data1[i])\n",
    "        plt.xlabel(i)\n",
    "    plot+=1\n",
    "plt.show()\n",
    "  "
   ]
  },
  {
   "cell_type": "code",
   "execution_count": 171,
   "id": "e41c0d27",
   "metadata": {},
   "outputs": [
    {
     "data": {
      "text/html": [
       "<div>\n",
       "<style scoped>\n",
       "    .dataframe tbody tr th:only-of-type {\n",
       "        vertical-align: middle;\n",
       "    }\n",
       "\n",
       "    .dataframe tbody tr th {\n",
       "        vertical-align: top;\n",
       "    }\n",
       "\n",
       "    .dataframe thead th {\n",
       "        text-align: right;\n",
       "    }\n",
       "</style>\n",
       "<table border=\"1\" class=\"dataframe\">\n",
       "  <thead>\n",
       "    <tr style=\"text-align: right;\">\n",
       "      <th></th>\n",
       "      <th>price</th>\n",
       "      <th>year</th>\n",
       "      <th>mileage</th>\n",
       "      <th>engine_capacity</th>\n",
       "      <th>transmission</th>\n",
       "      <th>drive</th>\n",
       "      <th>hand_drive</th>\n",
       "      <th>fuel</th>\n",
       "      <th>encoded_mark</th>\n",
       "      <th>encoded_model</th>\n",
       "    </tr>\n",
       "  </thead>\n",
       "  <tbody>\n",
       "    <tr>\n",
       "      <th>0</th>\n",
       "      <td>80</td>\n",
       "      <td>2003</td>\n",
       "      <td>80000</td>\n",
       "      <td>1240</td>\n",
       "      <td>0</td>\n",
       "      <td>0</td>\n",
       "      <td>2</td>\n",
       "      <td>2</td>\n",
       "      <td>320</td>\n",
       "      <td>55</td>\n",
       "    </tr>\n",
       "    <tr>\n",
       "      <th>1</th>\n",
       "      <td>110</td>\n",
       "      <td>2010</td>\n",
       "      <td>53000</td>\n",
       "      <td>1200</td>\n",
       "      <td>0</td>\n",
       "      <td>0</td>\n",
       "      <td>2</td>\n",
       "      <td>2</td>\n",
       "      <td>320</td>\n",
       "      <td>55</td>\n",
       "    </tr>\n",
       "  </tbody>\n",
       "</table>\n",
       "</div>"
      ],
      "text/plain": [
       "   price  year  mileage  engine_capacity  transmission  drive  hand_drive  \\\n",
       "0     80  2003    80000             1240             0      0           2   \n",
       "1    110  2010    53000             1200             0      0           2   \n",
       "\n",
       "   fuel  encoded_mark  encoded_model  \n",
       "0     2           320             55  \n",
       "1     2           320             55  "
      ]
     },
     "execution_count": 171,
     "metadata": {},
     "output_type": "execute_result"
    }
   ],
   "source": [
    "data1.head(2)"
   ]
  },
  {
   "cell_type": "code",
   "execution_count": 174,
   "id": "f3444bef",
   "metadata": {},
   "outputs": [
    {
     "data": {
      "text/plain": [
       "Text(0.5, 1.0, 'fuel')"
      ]
     },
     "execution_count": 174,
     "metadata": {},
     "output_type": "execute_result"
    },
    {
     "data": {
      "image/png": "[encoded data removed]",
      "text/plain": [
       "<Figure size 2000x1500 with 4 Axes>"
      ]
     },
     "metadata": {},
     "output_type": "display_data"
    }
   ],
   "source": [
    "fig, axs = plt.subplots(2,2, figsize = (20,15))\n",
    "\n",
    "sns.countplot(x = data['transmission'], ax = axs [0,0])\n",
    "axs[0, 0].set_title('transmission')\n",
    "\n",
    "sns.countplot(x = data['drive'], ax = axs [0,1])\n",
    "axs[0, 1].set_title('Drive Mode')\n",
    "\n",
    "sns.countplot(x = data['hand_drive'], ax = axs [1,0])\n",
    "axs[1, 0].set_title('hand_drive')\n",
    "\n",
    "sns.countplot(x = data['fuel'], ax = axs [1,1])\n",
    "axs[1, 1].set_title('fuel')"
   ]
  },
  {
   "cell_type": "code",
   "execution_count": 175,
   "id": "18fa3104",
   "metadata": {},
   "outputs": [
    {
     "data": {
      "image/png": "[encoded data removed]",
      "text/plain": [
       "<Figure size 2000x1500 with 2 Axes>"
      ]
     },
     "metadata": {},
     "output_type": "display_data"
    }
   ],
   "source": [
    "plt.figure(figsize = (20,15))\n",
    "sns.heatmap(data1.corr(), annot=True, cmap='coolwarm', fmt='.2f')\n",
    "plt.show()"
   ]
  },
  {
   "cell_type": "code",
   "execution_count": 176,
   "id": "70689a19",
   "metadata": {},
   "outputs": [],
   "source": [
    "from sklearn.preprocessing import StandardScaler"
   ]
  },
  {
   "cell_type": "code",
   "execution_count": 178,
   "id": "a5537cc0",
   "metadata": {},
   "outputs": [],
   "source": [
    "ss = StandardScaler()\n",
    "x_scaled = ss.fit_transform(x)"
   ]
  },
  {
   "cell_type": "code",
   "execution_count": 179,
   "id": "075d493c",
   "metadata": {},
   "outputs": [],
   "source": [
    "from sklearn.model_selection import train_test_split as tts\n",
    "\n",
    "x_train, x_test, y_train, y_test = tts(x_scaled, y, test_size=0.2, random_state=42)"
   ]
  },
  {
   "cell_type": "code",
   "execution_count": 180,
   "id": "fc9e72d3",
   "metadata": {},
   "outputs": [
    {
     "data": {
      "text/html": [
       "<style>#sk-container-id-1 {\n",
       "  /* Definition of color scheme common for light and dark mode */\n",
       "  --sklearn-color-text: black;\n",
       "  --sklearn-color-line: gray;\n",
       "  /* Definition of color scheme for unfitted estimators */\n",
       "  --sklearn-color-unfitted-level-0: #fff5e6;\n",
       "  --sklearn-color-unfitted-level-1: #f6e4d2;\n",
       "  --sklearn-color-unfitted-level-2: #ffe0b3;\n",
       "  --sklearn-color-unfitted-level-3: chocolate;\n",
       "  /* Definition of color scheme for fitted estimators */\n",
       "  --sklearn-color-fitted-level-0: #f0f8ff;\n",
       "  --sklearn-color-fitted-level-1: #d4ebff;\n",
       "  --sklearn-color-fitted-level-2: #b3dbfd;\n",
       "  --sklearn-color-fitted-level-3: cornflowerblue;\n",
       "\n",
       "  /* Specific color for light theme */\n",
       "  --sklearn-color-text-on-default-background: var(--sg-text-color, var(--theme-code-foreground, var(--jp-content-font-color1, black)));\n",
       "  --sklearn-color-background: var(--sg-background-color, var(--theme-background, var(--jp-layout-color0, white)));\n",
       "  --sklearn-color-border-box: var(--sg-text-color, var(--theme-code-foreground, var(--jp-content-font-color1, black)));\n",
       "  --sklearn-color-icon: #696969;\n",
       "\n",
       "  @media (prefers-color-scheme: dark) {\n",
       "    /* Redefinition of color scheme for dark theme */\n",
       "    --sklearn-color-text-on-default-background: var(--sg-text-color, var(--theme-code-foreground, var(--jp-content-font-color1, white)));\n",
       "    --sklearn-color-background: var(--sg-background-color, var(--theme-background, var(--jp-layout-color0, #111)));\n",
       "    --sklearn-color-border-box: var(--sg-text-color, var(--theme-code-foreground, var(--jp-content-font-color1, white)));\n",
       "    --sklearn-color-icon: #878787;\n",
       "  }\n",
       "}\n",
       "\n",
       "#sk-container-id-1 {\n",
       "  color: var(--sklearn-color-text);\n",
       "}\n",
       "\n",
       "#sk-container-id-1 pre {\n",
       "  padding: 0;\n",
       "}\n",
       "\n",
       "#sk-container-id-1 input.sk-hidden--visually {\n",
       "  border: 0;\n",
       "  clip: rect(1px 1px 1px 1px);\n",
       "  clip: rect(1px, 1px, 1px, 1px);\n",
       "  height: 1px;\n",
       "  margin: -1px;\n",
       "  overflow: hidden;\n",
       "  padding: 0;\n",
       "  position: absolute;\n",
       "  width: 1px;\n",
       "}\n",
       "\n",
       "#sk-container-id-1 div.sk-dashed-wrapped {\n",
       "  border: 1px dashed var(--sklearn-color-line);\n",
       "  margin: 0 0.4em 0.5em 0.4em;\n",
       "  box-sizing: border-box;\n",
       "  padding-bottom: 0.4em;\n",
       "  background-color: var(--sklearn-color-background);\n",
       "}\n",
       "\n",
       "#sk-container-id-1 div.sk-container {\n",
       "  /* jupyter's `normalize.less` sets `[hidden] { display: none; }`\n",
       "     but bootstrap.min.css set `[hidden] { display: none !important; }`\n",
       "     so we also need the `!important` here to be able to override the\n",
       "     default hidden behavior on the sphinx rendered scikit-learn.org.\n",
       "     See: https://github.com/scikit-learn/scikit-learn/issues/21755 */\n",
       "  display: inline-block !important;\n",
       "  position: relative;\n",
       "}\n",
       "\n",
       "#sk-container-id-1 div.sk-text-repr-fallback {\n",
       "  display: none;\n",
       "}\n",
       "\n",
       "div.sk-parallel-item,\n",
       "div.sk-serial,\n",
       "div.sk-item {\n",
       "  /* draw centered vertical line to link estimators */\n",
       "  background-image: linear-gradient(var(--sklearn-color-text-on-default-background), var(--sklearn-color-text-on-default-background));\n",
       "  background-size: 2px 100%;\n",
       "  background-repeat: no-repeat;\n",
       "  background-position: center center;\n",
       "}\n",
       "\n",
       "/* Parallel-specific style estimator block */\n",
       "\n",
       "#sk-container-id-1 div.sk-parallel-item::after {\n",
       "  content: \"\";\n",
       "  width: 100%;\n",
       "  border-bottom: 2px solid var(--sklearn-color-text-on-default-background);\n",
       "  flex-grow: 1;\n",
       "}\n",
       "\n",
       "#sk-container-id-1 div.sk-parallel {\n",
       "  display: flex;\n",
       "  align-items: stretch;\n",
       "  justify-content: center;\n",
       "  background-color: var(--sklearn-color-background);\n",
       "  position: relative;\n",
       "}\n",
       "\n",
       "#sk-container-id-1 div.sk-parallel-item {\n",
       "  display: flex;\n",
       "  flex-direction: column;\n",
       "}\n",
       "\n",
       "#sk-container-id-1 div.sk-parallel-item:first-child::after {\n",
       "  align-self: flex-end;\n",
       "  width: 50%;\n",
       "}\n",
       "\n",
       "#sk-container-id-1 div.sk-parallel-item:last-child::after {\n",
       "  align-self: flex-start;\n",
       "  width: 50%;\n",
       "}\n",
       "\n",
       "#sk-container-id-1 div.sk-parallel-item:only-child::after {\n",
       "  width: 0;\n",
       "}\n",
       "\n",
       "/* Serial-specific style estimator block */\n",
       "\n",
       "#sk-container-id-1 div.sk-serial {\n",
       "  display: flex;\n",
       "  flex-direction: column;\n",
       "  align-items: center;\n",
       "  background-color: var(--sklearn-color-background);\n",
       "  padding-right: 1em;\n",
       "  padding-left: 1em;\n",
       "}\n",
       "\n",
       "\n",
       "/* Toggleable style: style used for estimator/Pipeline/ColumnTransformer box that is\n",
       "clickable and can be expanded/collapsed.\n",
       "- Pipeline and ColumnTransformer use this feature and define the default style\n",
       "- Estimators will overwrite some part of the style using the `sk-estimator` class\n",
       "*/\n",
       "\n",
       "/* Pipeline and ColumnTransformer style (default) */\n",
       "\n",
       "#sk-container-id-1 div.sk-toggleable {\n",
       "  /* Default theme specific background. It is overwritten whether we have a\n",
       "  specific estimator or a Pipeline/ColumnTransformer */\n",
       "  background-color: var(--sklearn-color-background);\n",
       "}\n",
       "\n",
       "/* Toggleable label */\n",
       "#sk-container-id-1 label.sk-toggleable__label {\n",
       "  cursor: pointer;\n",
       "  display: block;\n",
       "  width: 100%;\n",
       "  margin-bottom: 0;\n",
       "  padding: 0.5em;\n",
       "  box-sizing: border-box;\n",
       "  text-align: center;\n",
       "}\n",
       "\n",
       "#sk-container-id-1 label.sk-toggleable__label-arrow:before {\n",
       "  /* Arrow on the left of the label */\n",
       "  content: \"▸\";\n",
       "  float: left;\n",
       "  margin-right: 0.25em;\n",
       "  color: var(--sklearn-color-icon);\n",
       "}\n",
       "\n",
       "#sk-container-id-1 label.sk-toggleable__label-arrow:hover:before {\n",
       "  color: var(--sklearn-color-text);\n",
       "}\n",
       "\n",
       "/* Toggleable content - dropdown */\n",
       "\n",
       "#sk-container-id-1 div.sk-toggleable__content {\n",
       "  max-height: 0;\n",
       "  max-width: 0;\n",
       "  overflow: hidden;\n",
       "  text-align: left;\n",
       "  /* unfitted */\n",
       "  background-color: var(--sklearn-color-unfitted-level-0);\n",
       "}\n",
       "\n",
       "#sk-container-id-1 div.sk-toggleable__content.fitted {\n",
       "  /* fitted */\n",
       "  background-color: var(--sklearn-color-fitted-level-0);\n",
       "}\n",
       "\n",
       "#sk-container-id-1 div.sk-toggleable__content pre {\n",
       "  margin: 0.2em;\n",
       "  border-radius: 0.25em;\n",
       "  color: var(--sklearn-color-text);\n",
       "  /* unfitted */\n",
       "  background-color: var(--sklearn-color-unfitted-level-0);\n",
       "}\n",
       "\n",
       "#sk-container-id-1 div.sk-toggleable__content.fitted pre {\n",
       "  /* unfitted */\n",
       "  background-color: var(--sklearn-color-fitted-level-0);\n",
       "}\n",
       "\n",
       "#sk-container-id-1 input.sk-toggleable__control:checked~div.sk-toggleable__content {\n",
       "  /* Expand drop-down */\n",
       "  max-height: 200px;\n",
       "  max-width: 100%;\n",
       "  overflow: auto;\n",
       "}\n",
       "\n",
       "#sk-container-id-1 input.sk-toggleable__control:checked~label.sk-toggleable__label-arrow:before {\n",
       "  content: \"▾\";\n",
       "}\n",
       "\n",
       "/* Pipeline/ColumnTransformer-specific style */\n",
       "\n",
       "#sk-container-id-1 div.sk-label input.sk-toggleable__control:checked~label.sk-toggleable__label {\n",
       "  color: var(--sklearn-color-text);\n",
       "  background-color: var(--sklearn-color-unfitted-level-2);\n",
       "}\n",
       "\n",
       "#sk-container-id-1 div.sk-label.fitted input.sk-toggleable__control:checked~label.sk-toggleable__label {\n",
       "  background-color: var(--sklearn-color-fitted-level-2);\n",
       "}\n",
       "\n",
       "/* Estimator-specific style */\n",
       "\n",
       "/* Colorize estimator box */\n",
       "#sk-container-id-1 div.sk-estimator input.sk-toggleable__control:checked~label.sk-toggleable__label {\n",
       "  /* unfitted */\n",
       "  background-color: var(--sklearn-color-unfitted-level-2);\n",
       "}\n",
       "\n",
       "#sk-container-id-1 div.sk-estimator.fitted input.sk-toggleable__control:checked~label.sk-toggleable__label {\n",
       "  /* fitted */\n",
       "  background-color: var(--sklearn-color-fitted-level-2);\n",
       "}\n",
       "\n",
       "#sk-container-id-1 div.sk-label label.sk-toggleable__label,\n",
       "#sk-container-id-1 div.sk-label label {\n",
       "  /* The background is the default theme color */\n",
       "  color: var(--sklearn-color-text-on-default-background);\n",
       "}\n",
       "\n",
       "/* On hover, darken the color of the background */\n",
       "#sk-container-id-1 div.sk-label:hover label.sk-toggleable__label {\n",
       "  color: var(--sklearn-color-text);\n",
       "  background-color: var(--sklearn-color-unfitted-level-2);\n",
       "}\n",
       "\n",
       "/* Label box, darken color on hover, fitted */\n",
       "#sk-container-id-1 div.sk-label.fitted:hover label.sk-toggleable__label.fitted {\n",
       "  color: var(--sklearn-color-text);\n",
       "  background-color: var(--sklearn-color-fitted-level-2);\n",
       "}\n",
       "\n",
       "/* Estimator label */\n",
       "\n",
       "#sk-container-id-1 div.sk-label label {\n",
       "  font-family: monospace;\n",
       "  font-weight: bold;\n",
       "  display: inline-block;\n",
       "  line-height: 1.2em;\n",
       "}\n",
       "\n",
       "#sk-container-id-1 div.sk-label-container {\n",
       "  text-align: center;\n",
       "}\n",
       "\n",
       "/* Estimator-specific */\n",
       "#sk-container-id-1 div.sk-estimator {\n",
       "  font-family: monospace;\n",
       "  border: 1px dotted var(--sklearn-color-border-box);\n",
       "  border-radius: 0.25em;\n",
       "  box-sizing: border-box;\n",
       "  margin-bottom: 0.5em;\n",
       "  /* unfitted */\n",
       "  background-color: var(--sklearn-color-unfitted-level-0);\n",
       "}\n",
       "\n",
       "#sk-container-id-1 div.sk-estimator.fitted {\n",
       "  /* fitted */\n",
       "  background-color: var(--sklearn-color-fitted-level-0);\n",
       "}\n",
       "\n",
       "/* on hover */\n",
       "#sk-container-id-1 div.sk-estimator:hover {\n",
       "  /* unfitted */\n",
       "  background-color: var(--sklearn-color-unfitted-level-2);\n",
       "}\n",
       "\n",
       "#sk-container-id-1 div.sk-estimator.fitted:hover {\n",
       "  /* fitted */\n",
       "  background-color: var(--sklearn-color-fitted-level-2);\n",
       "}\n",
       "\n",
       "/* Specification for estimator info (e.g. \"i\" and \"?\") */\n",
       "\n",
       "/* Common style for \"i\" and \"?\" */\n",
       "\n",
       ".sk-estimator-doc-link,\n",
       "a:link.sk-estimator-doc-link,\n",
       "a:visited.sk-estimator-doc-link {\n",
       "  float: right;\n",
       "  font-size: smaller;\n",
       "  line-height: 1em;\n",
       "  font-family: monospace;\n",
       "  background-color: var(--sklearn-color-background);\n",
       "  border-radius: 1em;\n",
       "  height: 1em;\n",
       "  width: 1em;\n",
       "  text-decoration: none !important;\n",
       "  margin-left: 1ex;\n",
       "  /* unfitted */\n",
       "  border: var(--sklearn-color-unfitted-level-1) 1pt solid;\n",
       "  color: var(--sklearn-color-unfitted-level-1);\n",
       "}\n",
       "\n",
       ".sk-estimator-doc-link.fitted,\n",
       "a:link.sk-estimator-doc-link.fitted,\n",
       "a:visited.sk-estimator-doc-link.fitted {\n",
       "  /* fitted */\n",
       "  border: var(--sklearn-color-fitted-level-1) 1pt solid;\n",
       "  color: var(--sklearn-color-fitted-level-1);\n",
       "}\n",
       "\n",
       "/* On hover */\n",
       "div.sk-estimator:hover .sk-estimator-doc-link:hover,\n",
       ".sk-estimator-doc-link:hover,\n",
       "div.sk-label-container:hover .sk-estimator-doc-link:hover,\n",
       ".sk-estimator-doc-link:hover {\n",
       "  /* unfitted */\n",
       "  background-color: var(--sklearn-color-unfitted-level-3);\n",
       "  color: var(--sklearn-color-background);\n",
       "  text-decoration: none;\n",
       "}\n",
       "\n",
       "div.sk-estimator.fitted:hover .sk-estimator-doc-link.fitted:hover,\n",
       ".sk-estimator-doc-link.fitted:hover,\n",
       "div.sk-label-container:hover .sk-estimator-doc-link.fitted:hover,\n",
       ".sk-estimator-doc-link.fitted:hover {\n",
       "  /* fitted */\n",
       "  background-color: var(--sklearn-color-fitted-level-3);\n",
       "  color: var(--sklearn-color-background);\n",
       "  text-decoration: none;\n",
       "}\n",
       "\n",
       "/* Span, style for the box shown on hovering the info icon */\n",
       ".sk-estimator-doc-link span {\n",
       "  display: none;\n",
       "  z-index: 9999;\n",
       "  position: relative;\n",
       "  font-weight: normal;\n",
       "  right: .2ex;\n",
       "  padding: .5ex;\n",
       "  margin: .5ex;\n",
       "  width: min-content;\n",
       "  min-width: 20ex;\n",
       "  max-width: 50ex;\n",
       "  color: var(--sklearn-color-text);\n",
       "  box-shadow: 2pt 2pt 4pt #999;\n",
       "  /* unfitted */\n",
       "  background: var(--sklearn-color-unfitted-level-0);\n",
       "  border: .5pt solid var(--sklearn-color-unfitted-level-3);\n",
       "}\n",
       "\n",
       ".sk-estimator-doc-link.fitted span {\n",
       "  /* fitted */\n",
       "  background: var(--sklearn-color-fitted-level-0);\n",
       "  border: var(--sklearn-color-fitted-level-3);\n",
       "}\n",
       "\n",
       ".sk-estimator-doc-link:hover span {\n",
       "  display: block;\n",
       "}\n",
       "\n",
       "/* \"?\"-specific style due to the `<a>` HTML tag */\n",
       "\n",
       "#sk-container-id-1 a.estimator_doc_link {\n",
       "  float: right;\n",
       "  font-size: 1rem;\n",
       "  line-height: 1em;\n",
       "  font-family: monospace;\n",
       "  background-color: var(--sklearn-color-background);\n",
       "  border-radius: 1rem;\n",
       "  height: 1rem;\n",
       "  width: 1rem;\n",
       "  text-decoration: none;\n",
       "  /* unfitted */\n",
       "  color: var(--sklearn-color-unfitted-level-1);\n",
       "  border: var(--sklearn-color-unfitted-level-1) 1pt solid;\n",
       "}\n",
       "\n",
       "#sk-container-id-1 a.estimator_doc_link.fitted {\n",
       "  /* fitted */\n",
       "  border: var(--sklearn-color-fitted-level-1) 1pt solid;\n",
       "  color: var(--sklearn-color-fitted-level-1);\n",
       "}\n",
       "\n",
       "/* On hover */\n",
       "#sk-container-id-1 a.estimator_doc_link:hover {\n",
       "  /* unfitted */\n",
       "  background-color: var(--sklearn-color-unfitted-level-3);\n",
       "  color: var(--sklearn-color-background);\n",
       "  text-decoration: none;\n",
       "}\n",
       "\n",
       "#sk-container-id-1 a.estimator_doc_link.fitted:hover {\n",
       "  /* fitted */\n",
       "  background-color: var(--sklearn-color-fitted-level-3);\n",
       "}\n",
       "</style><div id=\"sk-container-id-1\" class=\"sk-top-container\"><div class=\"sk-text-repr-fallback\"><pre>LinearRegression()</pre><b>In a Jupyter environment, please rerun this cell to show the HTML representation or trust the notebook. <br />On GitHub, the HTML representation is unable to render, please try loading this page with nbviewer.org.</b></div><div class=\"sk-container\" hidden><div class=\"sk-item\"><div class=\"sk-estimator fitted sk-toggleable\"><input class=\"sk-toggleable__control sk-hidden--visually\" id=\"sk-estimator-id-1\" type=\"checkbox\" checked><label for=\"sk-estimator-id-1\" class=\"sk-toggleable__label fitted sk-toggleable__label-arrow fitted\">&nbsp;&nbsp;LinearRegression<a class=\"sk-estimator-doc-link fitted\" rel=\"noreferrer\" target=\"_blank\" href=\"https://scikit-learn.org/1.4/modules/generated/sklearn.linear_model.LinearRegression.html\">?<span>Documentation for LinearRegression</span></a><span class=\"sk-estimator-doc-link fitted\">i<span>Fitted</span></span></label><div class=\"sk-toggleable__content fitted\"><pre>LinearRegression()</pre></div> </div></div></div></div>"
      ],
      "text/plain": [
       "LinearRegression()"
      ]
     },
     "execution_count": 180,
     "metadata": {},
     "output_type": "execute_result"
    }
   ],
   "source": [
    "from sklearn.linear_model import LinearRegression\n",
    "\n",
    "lr = LinearRegression()\n",
    "lr.fit(x_train,y_train)"
   ]
  },
  {
   "cell_type": "code",
   "execution_count": 183,
   "id": "88e08123",
   "metadata": {},
   "outputs": [
    {
     "data": {
      "text/plain": [
       "0.0835599695806497"
      ]
     },
     "execution_count": 183,
     "metadata": {},
     "output_type": "execute_result"
    }
   ],
   "source": [
    "lr.score(x_train,y_train)"
   ]
  },
  {
   "cell_type": "code",
   "execution_count": 184,
   "id": "2e2cb234",
   "metadata": {},
   "outputs": [
    {
     "data": {
      "text/plain": [
       "0.04022164511830728"
      ]
     },
     "execution_count": 184,
     "metadata": {},
     "output_type": "execute_result"
    }
   ],
   "source": [
    "lr.score(x_test,y_test)"
   ]
  },
  {
   "cell_type": "code",
   "execution_count": 192,
   "id": "cfc1f81b",
   "metadata": {},
   "outputs": [
    {
     "data": {
      "text/plain": [
       "array([ 873.69581195,  954.21391667,  794.64247576, 1169.59984296,\n",
       "        965.68144545,  898.49881606,  900.44848397,  854.83713039,\n",
       "        994.24811739, 1020.9884158 , 1015.39389483, 1037.23589325,\n",
       "       1083.59229412, 1025.43673163, 1021.40938921,  973.57753806,\n",
       "        971.65171477,  939.86430314,  953.86981843,  834.63419404,\n",
       "       1067.04558038, 1045.33994044, 1005.19419756, 1109.09423487,\n",
       "        777.4997133 , 1009.44895328, 1003.97894047,  854.21932058,\n",
       "        979.54840223, 1053.35606538,  855.42547248, 1049.19202371,\n",
       "        861.75858494,  854.89281036,  948.52040947,  926.25974684,\n",
       "        978.25149261, 1029.42134626, 1029.73116964,  853.20631169,\n",
       "        998.23803683, 1053.44148979, 1062.74547848, 1003.92090907,\n",
       "        928.96192345,  919.17196709, 1030.22400493,  975.90543164,\n",
       "       1040.14163668, 1124.30758266,  926.51741997,  887.30636561,\n",
       "       1003.53427983,  867.16335643,  933.44732335, 1011.29096428,\n",
       "        886.35040229, 1161.30802502, 1003.53799414,  990.36745429,\n",
       "        913.58586036,  992.97451153, 1011.87362014,  954.82404556,\n",
       "       1033.23396113,  980.54432654,  936.05508263,  924.89072827,\n",
       "       1001.50962735,  973.38561309, 1000.27841221,  910.96884072,\n",
       "        973.99906028,  917.96563971,  872.52581746,  957.55098324,\n",
       "        959.41083136,  936.83581518, 1039.83568039,  983.28803246,\n",
       "        989.04726994,  912.91606626,  982.79787844,  952.32351997,\n",
       "        882.70979243, 1028.51956966,  967.94142771,  966.07755121,\n",
       "       1109.85496553,  869.02102595, 1111.47161743,  994.19666861,\n",
       "       1030.13590638,  973.92975261,  969.46167843,  961.41963892,\n",
       "        888.49815095,  933.51953811,  873.82049039,  980.614468  ,\n",
       "        968.72819322,  894.31900865, 1003.05482935,  882.27528289,\n",
       "       1087.504949  ,  921.22284656,  998.87836595,  872.42291144,\n",
       "        995.05360392,  957.33372847,  998.84876097,  980.62533074,\n",
       "       1041.42967576, 1047.63418367,  925.70177088,  913.72707596,\n",
       "        930.07737124, 1048.96962072,  926.54652314, 1009.90423676,\n",
       "        918.94328617, 1097.3523864 , 1089.29333049,  963.01648982,\n",
       "       1021.30552406,  878.53306669,  920.11112334, 1001.72690675,\n",
       "       1031.35871219,  998.08559666, 1032.4056655 ,  992.54000199,\n",
       "       1003.29574121,  954.94392601, 1016.77917754, 1041.94118543,\n",
       "        903.86904802, 1083.05383953, 1199.15162015,  869.8239366 ,\n",
       "       1078.03770223, 1000.07658523,  946.12137944,  975.55334297,\n",
       "        939.26692685,  940.43695244,  964.20502411, 1116.51478   ,\n",
       "       1004.97401581,  950.746346  ,  939.38018288, 1069.11378704,\n",
       "        976.48763686,  959.2965879 , 1103.52107052,  959.56721367,\n",
       "        899.52395263, 1058.05142327,  947.42054981,  956.08908826,\n",
       "        855.41477661,  855.16160461,  984.7015777 ,  909.79460544,\n",
       "       1049.35066121,  974.09955645,  941.65705523,  972.38524507,\n",
       "        777.60551371, 1035.39693779, 1015.91762296,  991.81231493,\n",
       "        967.166351  ,  854.67555559,  938.5736945 ,  889.46476139,\n",
       "        880.68571648,  777.27282374,  870.95884763, 1039.83213681,\n",
       "       1053.39290993, 1064.77909546,  884.60799745, 1119.58107108,\n",
       "       1078.29842682,  925.47691346, 1035.68573045, 1024.96955593,\n",
       "        957.13718446,  952.22401728,  887.26531777, 1045.63621223,\n",
       "        968.51799192,  914.38093602, 1110.87260173,  900.71675811,\n",
       "       1005.78474747,  965.47438929, 1044.97817789,  992.76662951,\n",
       "        949.77892009, 1203.03420623,  975.77059774, 1055.31279033,\n",
       "        916.46525834,  962.60138085,  896.61439666, 1088.88243403,\n",
       "       1085.75934019, 1102.51604674,  877.87226721, 1032.79350868,\n",
       "        947.26955393, 1027.31159438,  897.56957463,  895.72199416,\n",
       "       1031.96204309, 1012.47536056, 1043.15066371, 1180.27224385,\n",
       "       1029.37074645,  963.49123405, 1053.57332015, 1103.96534977,\n",
       "        954.49606766,  996.51951218,  951.361938  ,  989.99148529,\n",
       "        996.88509738,  944.40931645, 1099.71888956,  868.41783918,\n",
       "        886.77481485, 1043.21799586,  909.54459187,  968.95804724,\n",
       "        905.28120402,  871.67338248,  878.61467237,  951.93230295,\n",
       "        873.04310458, 1187.76690554,  990.34778311,  999.40643921,\n",
       "        980.90021084, 1024.65090972,  851.94939616, 1108.89921819,\n",
       "        874.58650006,  916.71802473, 1105.87469643,  895.82711365,\n",
       "       1077.36377794,  930.4329284 ,  938.33555566,  913.90148342,\n",
       "       1020.89905942,  943.85215219, 1047.75159257,  956.52955466,\n",
       "        955.90291351, 1073.00171925,  979.42105676,  950.21256364,\n",
       "        891.62499022, 1126.41458887,  877.2308315 , 1089.93904865,\n",
       "        980.1908212 , 1043.51262472,  883.42312657, 1035.46022173,\n",
       "       1005.99228741,  997.23663956,  970.09370438,  968.48280373,\n",
       "        991.65665879,  879.15027739,  921.77413785,  874.02230678,\n",
       "       1084.73693924,  776.46573243, 1001.10966132, 1106.55782302,\n",
       "        966.73806063,  975.5546465 , 1022.17100141, 1024.0201624 ,\n",
       "       1043.43802044,  973.86380755,  902.23963725,  891.37710734,\n",
       "        962.29748002,  918.73189976, 1030.37812947, 1030.0117186 ,\n",
       "       1025.53940437,  868.6713648 , 1012.08596415, 1084.58144279,\n",
       "       1004.47474838,  876.17366671,  928.80131412, 1028.20880374,\n",
       "        886.41087575,  927.80435831,  902.34826463,  931.2692515 ,\n",
       "       1116.58960901,  877.01357673, 1051.55219188,  883.41125038,\n",
       "        879.2570957 ,  825.69105675, 1032.45004941,  953.5184212 ,\n",
       "        902.67414679,  971.55514358, 1059.69876349,  899.86519506,\n",
       "       1032.07185445,  895.39401626,  975.00781625,  967.26936288,\n",
       "       1065.28504246,  989.91294413, 1084.01529326, 1064.57357174,\n",
       "        871.41800057,  868.10076842,  940.54103577, 1002.41073541,\n",
       "        875.49279335,  882.10834729,  980.18144845, 1042.52576634,\n",
       "       1017.34866514,  897.67140868, 1046.39650986,  901.88382081,\n",
       "       1060.94082999,  988.79517814, 1078.56968381, 1067.69827779,\n",
       "        888.42680603,  969.8743033 ,  900.97029212,  921.75494113,\n",
       "       1043.39816885,  973.09946673,  982.79787844, 1080.11546877,\n",
       "        988.14716244,  930.98182591,  964.92324578, 1008.27695631,\n",
       "        877.44584269,  963.10282558,  962.11122059, 1033.70442634,\n",
       "       1047.39232393, 1038.30338392,  821.77595453,  991.9057541 ,\n",
       "        795.50772417,  987.43451491, 1078.71461343,  907.29830783,\n",
       "        804.37277647, 1043.10936848,  973.19411031, 1016.218236  ,\n",
       "       1039.62896896,  927.31680997,  970.35466097,  901.20558135,\n",
       "        869.69926272,  930.66719435, 1012.64363895,  923.92104591,\n",
       "       1141.34619033,  911.73535803,  941.81163197,  856.84810329,\n",
       "        989.00752498,  925.85589342, 1019.31128188,  977.27040687,\n",
       "        917.60613662, 1041.00587615,  920.07771502, 1006.79939038,\n",
       "        937.95588058,  958.31137494, 1094.72871932,  957.64626182,\n",
       "        990.24907601,  871.8245918 , 1041.21430497,  964.81227851,\n",
       "        999.9360369 ,  950.85914602, 1073.14791056, 1059.55468629,\n",
       "        881.90180904,  926.71171851,  970.49445704,  858.6522019 ,\n",
       "        883.89396326,  982.68925105,  892.08781489,  896.02934792,\n",
       "        868.12785666,  856.70145632,  997.81810434,  917.91441128,\n",
       "        965.66181572, 1038.6151605 , 1019.37165772, 1104.92511643,\n",
       "        896.48238586,  979.1107812 ,  854.40121292,  999.95997291,\n",
       "        957.89775396, 1071.02019765,  773.73729748,  933.7732055 ,\n",
       "       1069.4502598 , 1079.76462933, 1004.45208735,  881.33035698,\n",
       "        989.76357029,  988.30137867, 1012.3703091 ,  971.27983303,\n",
       "       1054.89817041,  999.75990135,  951.16595506, 1056.88006335,\n",
       "        942.31272997,  997.60264388,  978.50429352,  915.50282041,\n",
       "        920.87151504, 1116.41151151,  937.34923849,  985.30965709,\n",
       "       1002.29895633, 1073.78192324, 1682.57031089,  973.23236132,\n",
       "        974.15919813,  965.33606274,  954.35060324,  951.88901043,\n",
       "        927.4977855 , 1080.93367725,  902.30694309,  921.99329768,\n",
       "       1011.60834095,  985.10176431,  961.21825844,  966.81452224])"
      ]
     },
     "execution_count": 192,
     "metadata": {},
     "output_type": "execute_result"
    }
   ],
   "source": [
    "lr.predict(x_test)"
   ]
  },
  {
   "cell_type": "code",
   "execution_count": 238,
   "id": "94a74c3e",
   "metadata": {},
   "outputs": [
    {
     "data": {
      "text/plain": [
       "237.24148464372692"
      ]
     },
     "execution_count": 238,
     "metadata": {},
     "output_type": "execute_result"
    }
   ],
   "source": [
    "from sklearn.metrics import mean_squared_error,mean_absolute_error, r2_score\n",
    "\n",
    "mean_absolute_error(y_test,lr.predict(x_test))"
   ]
  },
  {
   "cell_type": "code",
   "execution_count": 195,
   "id": "af206542",
   "metadata": {},
   "outputs": [],
   "source": [
    "from sklearn.feature_selection import VarianceThreshold\n",
    "\n",
    "\n",
    "sel = VarianceThreshold(threshold=(0.01))  \n",
    "X_selected = sel.fit_transform(x)"
   ]
  },
  {
   "cell_type": "code",
   "execution_count": 196,
   "id": "a4d75b1a",
   "metadata": {},
   "outputs": [
    {
     "data": {
      "text/plain": [
       "array([[  2003,  80000,   1240, ...,      0,    320,     55],\n",
       "       [  2010,  53000,   1200, ...,      0,    320,     55],\n",
       "       [  2005,  47690,   2000, ...,      0,    320,      4],\n",
       "       ...,\n",
       "       [  2005, 101000,    660, ...,      0,     54,      3],\n",
       "       [  2000, 170000,    660, ...,      1,    382,      1],\n",
       "       [  2005,  72320,   3000, ...,      0,   1047,      1]], dtype=int64)"
      ]
     },
     "execution_count": 196,
     "metadata": {},
     "output_type": "execute_result"
    }
   ],
   "source": [
    "X_selected"
   ]
  },
  {
   "cell_type": "code",
   "execution_count": 197,
   "id": "16b611ba",
   "metadata": {},
   "outputs": [
    {
     "name": "stdout",
     "output_type": "stream",
     "text": [
      "           Feature     Score\n",
      "5       hand_drive  6.816281\n",
      "6             fuel  6.816281\n",
      "0             year  2.244331\n",
      "8    encoded_model  2.212963\n",
      "3     transmission  2.004780\n",
      "7     encoded_mark  1.791363\n",
      "1          mileage  1.392197\n",
      "2  engine_capacity  1.371855\n",
      "4            drive  1.280124\n"
     ]
    }
   ],
   "source": [
    "from sklearn.feature_selection import SelectKBest,f_classif\n",
    "\n",
    "select_feature=SelectKBest(score_func=f_classif,k=14)\n",
    "fit=select_feature.fit(x,y)\n",
    "score=pd.DataFrame(fit.scores_)\n",
    "column=pd.DataFrame(x.columns)\n",
    "\n",
    "best_feature=pd.concat([column,score],axis=1)\n",
    "best_feature.columns=['Feature','Score']\n",
    "print(best_feature.nlargest(14,'Score'))"
   ]
  },
  {
   "cell_type": "code",
   "execution_count": 200,
   "id": "2c556d27",
   "metadata": {},
   "outputs": [
    {
     "data": {
      "text/html": [
       "<div>\n",
       "<style scoped>\n",
       "    .dataframe tbody tr th:only-of-type {\n",
       "        vertical-align: middle;\n",
       "    }\n",
       "\n",
       "    .dataframe tbody tr th {\n",
       "        vertical-align: top;\n",
       "    }\n",
       "\n",
       "    .dataframe thead th {\n",
       "        text-align: right;\n",
       "    }\n",
       "</style>\n",
       "<table border=\"1\" class=\"dataframe\">\n",
       "  <thead>\n",
       "    <tr style=\"text-align: right;\">\n",
       "      <th></th>\n",
       "      <th>id</th>\n",
       "      <th>price</th>\n",
       "      <th>mark</th>\n",
       "      <th>model</th>\n",
       "      <th>year</th>\n",
       "      <th>mileage</th>\n",
       "      <th>engine_capacity</th>\n",
       "      <th>transmission</th>\n",
       "      <th>drive</th>\n",
       "      <th>hand_drive</th>\n",
       "      <th>fuel</th>\n",
       "    </tr>\n",
       "  </thead>\n",
       "  <tbody>\n",
       "    <tr>\n",
       "      <th>0</th>\n",
       "      <td>0</td>\n",
       "      <td>80</td>\n",
       "      <td>nissan</td>\n",
       "      <td>march</td>\n",
       "      <td>2003</td>\n",
       "      <td>80000</td>\n",
       "      <td>1240</td>\n",
       "      <td>at</td>\n",
       "      <td>2wd</td>\n",
       "      <td>rhd</td>\n",
       "      <td>gasoline</td>\n",
       "    </tr>\n",
       "    <tr>\n",
       "      <th>1</th>\n",
       "      <td>1</td>\n",
       "      <td>110</td>\n",
       "      <td>nissan</td>\n",
       "      <td>march</td>\n",
       "      <td>2010</td>\n",
       "      <td>53000</td>\n",
       "      <td>1200</td>\n",
       "      <td>at</td>\n",
       "      <td>2wd</td>\n",
       "      <td>rhd</td>\n",
       "      <td>gasoline</td>\n",
       "    </tr>\n",
       "    <tr>\n",
       "      <th>2</th>\n",
       "      <td>2</td>\n",
       "      <td>165</td>\n",
       "      <td>nissan</td>\n",
       "      <td>lafesta</td>\n",
       "      <td>2005</td>\n",
       "      <td>47690</td>\n",
       "      <td>2000</td>\n",
       "      <td>at</td>\n",
       "      <td>2wd</td>\n",
       "      <td>rhd</td>\n",
       "      <td>gasoline</td>\n",
       "    </tr>\n",
       "    <tr>\n",
       "      <th>3</th>\n",
       "      <td>3</td>\n",
       "      <td>190</td>\n",
       "      <td>toyota</td>\n",
       "      <td>avensis</td>\n",
       "      <td>2008</td>\n",
       "      <td>130661</td>\n",
       "      <td>1990</td>\n",
       "      <td>at</td>\n",
       "      <td>2wd</td>\n",
       "      <td>rhd</td>\n",
       "      <td>gasoline</td>\n",
       "    </tr>\n",
       "    <tr>\n",
       "      <th>4</th>\n",
       "      <td>4</td>\n",
       "      <td>190</td>\n",
       "      <td>daihatsu</td>\n",
       "      <td>mira</td>\n",
       "      <td>2006</td>\n",
       "      <td>66300</td>\n",
       "      <td>660</td>\n",
       "      <td>at</td>\n",
       "      <td>2wd</td>\n",
       "      <td>rhd</td>\n",
       "      <td>gasoline</td>\n",
       "    </tr>\n",
       "    <tr>\n",
       "      <th>...</th>\n",
       "      <td>...</td>\n",
       "      <td>...</td>\n",
       "      <td>...</td>\n",
       "      <td>...</td>\n",
       "      <td>...</td>\n",
       "      <td>...</td>\n",
       "      <td>...</td>\n",
       "      <td>...</td>\n",
       "      <td>...</td>\n",
       "      <td>...</td>\n",
       "      <td>...</td>\n",
       "    </tr>\n",
       "    <tr>\n",
       "      <th>2313</th>\n",
       "      <td>2331</td>\n",
       "      <td>1400</td>\n",
       "      <td>toyota</td>\n",
       "      <td>vitz</td>\n",
       "      <td>2009</td>\n",
       "      <td>121000</td>\n",
       "      <td>996</td>\n",
       "      <td>at</td>\n",
       "      <td>2wd</td>\n",
       "      <td>rhd</td>\n",
       "      <td>gasoline</td>\n",
       "    </tr>\n",
       "    <tr>\n",
       "      <th>2314</th>\n",
       "      <td>2332</td>\n",
       "      <td>1400</td>\n",
       "      <td>toyota</td>\n",
       "      <td>estima</td>\n",
       "      <td>2003</td>\n",
       "      <td>101000</td>\n",
       "      <td>3000</td>\n",
       "      <td>at</td>\n",
       "      <td>2wd</td>\n",
       "      <td>rhd</td>\n",
       "      <td>gasoline</td>\n",
       "    </tr>\n",
       "    <tr>\n",
       "      <th>2315</th>\n",
       "      <td>2333</td>\n",
       "      <td>1400</td>\n",
       "      <td>subaru</td>\n",
       "      <td>r2</td>\n",
       "      <td>2005</td>\n",
       "      <td>101000</td>\n",
       "      <td>660</td>\n",
       "      <td>cvt</td>\n",
       "      <td>2wd</td>\n",
       "      <td>rhd</td>\n",
       "      <td>gasoline</td>\n",
       "    </tr>\n",
       "    <tr>\n",
       "      <th>2316</th>\n",
       "      <td>2334</td>\n",
       "      <td>1400</td>\n",
       "      <td>honda</td>\n",
       "      <td>z</td>\n",
       "      <td>2000</td>\n",
       "      <td>170000</td>\n",
       "      <td>660</td>\n",
       "      <td>at</td>\n",
       "      <td>4wd</td>\n",
       "      <td>rhd</td>\n",
       "      <td>gasoline</td>\n",
       "    </tr>\n",
       "    <tr>\n",
       "      <th>2317</th>\n",
       "      <td>2335</td>\n",
       "      <td>1400</td>\n",
       "      <td>toyota</td>\n",
       "      <td>estima t</td>\n",
       "      <td>2005</td>\n",
       "      <td>72320</td>\n",
       "      <td>3000</td>\n",
       "      <td>at</td>\n",
       "      <td>2wd</td>\n",
       "      <td>rhd</td>\n",
       "      <td>gasoline</td>\n",
       "    </tr>\n",
       "  </tbody>\n",
       "</table>\n",
       "<p>2318 rows × 11 columns</p>\n",
       "</div>"
      ],
      "text/plain": [
       "        id  price      mark     model  year  mileage  engine_capacity  \\\n",
       "0        0     80    nissan     march  2003    80000             1240   \n",
       "1        1    110    nissan     march  2010    53000             1200   \n",
       "2        2    165    nissan   lafesta  2005    47690             2000   \n",
       "3        3    190    toyota   avensis  2008   130661             1990   \n",
       "4        4    190  daihatsu      mira  2006    66300              660   \n",
       "...    ...    ...       ...       ...   ...      ...              ...   \n",
       "2313  2331   1400    toyota      vitz  2009   121000              996   \n",
       "2314  2332   1400    toyota    estima  2003   101000             3000   \n",
       "2315  2333   1400    subaru        r2  2005   101000              660   \n",
       "2316  2334   1400     honda         z  2000   170000              660   \n",
       "2317  2335   1400    toyota  estima t  2005    72320             3000   \n",
       "\n",
       "     transmission drive hand_drive      fuel  \n",
       "0              at   2wd        rhd  gasoline  \n",
       "1              at   2wd        rhd  gasoline  \n",
       "2              at   2wd        rhd  gasoline  \n",
       "3              at   2wd        rhd  gasoline  \n",
       "4              at   2wd        rhd  gasoline  \n",
       "...           ...   ...        ...       ...  \n",
       "2313           at   2wd        rhd  gasoline  \n",
       "2314           at   2wd        rhd  gasoline  \n",
       "2315          cvt   2wd        rhd  gasoline  \n",
       "2316           at   4wd        rhd  gasoline  \n",
       "2317           at   2wd        rhd  gasoline  \n",
       "\n",
       "[2318 rows x 11 columns]"
      ]
     },
     "execution_count": 200,
     "metadata": {},
     "output_type": "execute_result"
    }
   ],
   "source": [
    "data"
   ]
  },
  {
   "cell_type": "code",
   "execution_count": 201,
   "id": "a211803e",
   "metadata": {},
   "outputs": [
    {
     "name": "stdout",
     "output_type": "stream",
     "text": [
      "<class 'pandas.core.frame.DataFrame'>\n",
      "RangeIndex: 2318 entries, 0 to 2317\n",
      "Data columns (total 11 columns):\n",
      " #   Column           Non-Null Count  Dtype \n",
      "---  ------           --------------  ----- \n",
      " 0   id               2318 non-null   int64 \n",
      " 1   price            2318 non-null   int64 \n",
      " 2   mark             2318 non-null   object\n",
      " 3   model            2318 non-null   object\n",
      " 4   year             2318 non-null   int64 \n",
      " 5   mileage          2318 non-null   int64 \n",
      " 6   engine_capacity  2318 non-null   int64 \n",
      " 7   transmission     2318 non-null   object\n",
      " 8   drive            2318 non-null   object\n",
      " 9   hand_drive       2318 non-null   object\n",
      " 10  fuel             2318 non-null   object\n",
      "dtypes: int64(5), object(6)\n",
      "memory usage: 199.3+ KB\n"
     ]
    }
   ],
   "source": [
    "data.info()"
   ]
  },
  {
   "cell_type": "code",
   "execution_count": 203,
   "id": "e732fa21",
   "metadata": {},
   "outputs": [
    {
     "data": {
      "text/plain": [
       "28"
      ]
     },
     "execution_count": 203,
     "metadata": {},
     "output_type": "execute_result"
    }
   ],
   "source": [
    "data['mark'].nunique()"
   ]
  },
  {
   "cell_type": "code",
   "execution_count": 205,
   "id": "13133f6b",
   "metadata": {},
   "outputs": [
    {
     "data": {
      "text/plain": [
       "258"
      ]
     },
     "execution_count": 205,
     "metadata": {},
     "output_type": "execute_result"
    }
   ],
   "source": [
    "data['model'].nunique()"
   ]
  },
  {
   "cell_type": "code",
   "execution_count": 206,
   "id": "3f23582f",
   "metadata": {},
   "outputs": [
    {
     "data": {
      "text/plain": [
       "mark\n",
       "toyota           1047\n",
       "honda             382\n",
       "nissan            320\n",
       "mazda             148\n",
       "suzuki            126\n",
       "mitsubishi         65\n",
       "daihatsu           56\n",
       "subaru             54\n",
       "volkswagen         52\n",
       "bmw                27\n",
       "hyundai             9\n",
       "mercedes-benz       5\n",
       "kia motors          4\n",
       "isuzu               3\n",
       "audi                3\n",
       "smart               2\n",
       "volvo               2\n",
       "land rover          2\n",
       "peugeot             2\n",
       "hino                1\n",
       "mitsuoka            1\n",
       "ford                1\n",
       "gm                  1\n",
       "citroen             1\n",
       "opel                1\n",
       "chrysler            1\n",
       "kubota              1\n",
       "jaguar              1\n",
       "Name: count, dtype: int64"
      ]
     },
     "execution_count": 206,
     "metadata": {},
     "output_type": "execute_result"
    }
   ],
   "source": [
    "data['mark'].value_counts()"
   ]
  },
  {
   "cell_type": "code",
   "execution_count": 207,
   "id": "7f590379",
   "metadata": {},
   "outputs": [
    {
     "data": {
      "text/plain": [
       "model\n",
       "fit                    270\n",
       "vitz                   179\n",
       "passo                  127\n",
       "ist                     93\n",
       "ractis                  85\n",
       "                      ... \n",
       "sx4 sedan                1\n",
       "207                      1\n",
       "corolla ii               1\n",
       "impreza sportswagon      1\n",
       "estima t                 1\n",
       "Name: count, Length: 258, dtype: int64"
      ]
     },
     "execution_count": 207,
     "metadata": {},
     "output_type": "execute_result"
    }
   ],
   "source": [
    "data['model'].value_counts()"
   ]
  },
  {
   "cell_type": "code",
   "execution_count": 219,
   "id": "bb261a0c",
   "metadata": {},
   "outputs": [
    {
     "data": {
      "text/html": [
       "<div>\n",
       "<style scoped>\n",
       "    .dataframe tbody tr th:only-of-type {\n",
       "        vertical-align: middle;\n",
       "    }\n",
       "\n",
       "    .dataframe tbody tr th {\n",
       "        vertical-align: top;\n",
       "    }\n",
       "\n",
       "    .dataframe thead th {\n",
       "        text-align: right;\n",
       "    }\n",
       "</style>\n",
       "<table border=\"1\" class=\"dataframe\">\n",
       "  <thead>\n",
       "    <tr style=\"text-align: right;\">\n",
       "      <th></th>\n",
       "      <th>id</th>\n",
       "      <th>price</th>\n",
       "      <th>mark</th>\n",
       "      <th>model</th>\n",
       "      <th>year</th>\n",
       "      <th>mileage</th>\n",
       "      <th>engine_capacity</th>\n",
       "      <th>transmission</th>\n",
       "      <th>drive</th>\n",
       "      <th>hand_drive</th>\n",
       "      <th>fuel</th>\n",
       "    </tr>\n",
       "  </thead>\n",
       "  <tbody>\n",
       "    <tr>\n",
       "      <th>0</th>\n",
       "      <td>0</td>\n",
       "      <td>80</td>\n",
       "      <td>nissan</td>\n",
       "      <td>march</td>\n",
       "      <td>2003</td>\n",
       "      <td>80000</td>\n",
       "      <td>1240</td>\n",
       "      <td>at</td>\n",
       "      <td>2wd</td>\n",
       "      <td>rhd</td>\n",
       "      <td>gasoline</td>\n",
       "    </tr>\n",
       "    <tr>\n",
       "      <th>1</th>\n",
       "      <td>1</td>\n",
       "      <td>110</td>\n",
       "      <td>nissan</td>\n",
       "      <td>march</td>\n",
       "      <td>2010</td>\n",
       "      <td>53000</td>\n",
       "      <td>1200</td>\n",
       "      <td>at</td>\n",
       "      <td>2wd</td>\n",
       "      <td>rhd</td>\n",
       "      <td>gasoline</td>\n",
       "    </tr>\n",
       "    <tr>\n",
       "      <th>2</th>\n",
       "      <td>2</td>\n",
       "      <td>165</td>\n",
       "      <td>nissan</td>\n",
       "      <td>lafesta</td>\n",
       "      <td>2005</td>\n",
       "      <td>47690</td>\n",
       "      <td>2000</td>\n",
       "      <td>at</td>\n",
       "      <td>2wd</td>\n",
       "      <td>rhd</td>\n",
       "      <td>gasoline</td>\n",
       "    </tr>\n",
       "    <tr>\n",
       "      <th>3</th>\n",
       "      <td>3</td>\n",
       "      <td>190</td>\n",
       "      <td>toyota</td>\n",
       "      <td>avensis</td>\n",
       "      <td>2008</td>\n",
       "      <td>130661</td>\n",
       "      <td>1990</td>\n",
       "      <td>at</td>\n",
       "      <td>2wd</td>\n",
       "      <td>rhd</td>\n",
       "      <td>gasoline</td>\n",
       "    </tr>\n",
       "    <tr>\n",
       "      <th>4</th>\n",
       "      <td>4</td>\n",
       "      <td>190</td>\n",
       "      <td>daihatsu</td>\n",
       "      <td>mira</td>\n",
       "      <td>2006</td>\n",
       "      <td>66300</td>\n",
       "      <td>660</td>\n",
       "      <td>at</td>\n",
       "      <td>2wd</td>\n",
       "      <td>rhd</td>\n",
       "      <td>gasoline</td>\n",
       "    </tr>\n",
       "  </tbody>\n",
       "</table>\n",
       "</div>"
      ],
      "text/plain": [
       "   id  price      mark    model  year  mileage  engine_capacity transmission  \\\n",
       "0   0     80    nissan    march  2003    80000             1240           at   \n",
       "1   1    110    nissan    march  2010    53000             1200           at   \n",
       "2   2    165    nissan  lafesta  2005    47690             2000           at   \n",
       "3   3    190    toyota  avensis  2008   130661             1990           at   \n",
       "4   4    190  daihatsu     mira  2006    66300              660           at   \n",
       "\n",
       "  drive hand_drive      fuel  \n",
       "0   2wd        rhd  gasoline  \n",
       "1   2wd        rhd  gasoline  \n",
       "2   2wd        rhd  gasoline  \n",
       "3   2wd        rhd  gasoline  \n",
       "4   2wd        rhd  gasoline  "
      ]
     },
     "execution_count": 219,
     "metadata": {},
     "output_type": "execute_result"
    }
   ],
   "source": [
    "data.head()\n"
   ]
  },
  {
   "cell_type": "code",
   "execution_count": 220,
   "id": "c1b345c0",
   "metadata": {},
   "outputs": [],
   "source": [
    "x = data.drop(columns = ['id','price'])\n",
    "y = data.price"
   ]
  },
  {
   "cell_type": "code",
   "execution_count": 221,
   "id": "dbd46f52",
   "metadata": {},
   "outputs": [],
   "source": [
    "categorical_cols = ['mark', 'model', 'transmission', 'drive', 'hand_drive', 'fuel']"
   ]
  },
  {
   "cell_type": "code",
   "execution_count": 223,
   "id": "f8d5e0af",
   "metadata": {},
   "outputs": [],
   "source": [
    "from sklearn.preprocessing import OneHotEncoder\n",
    "\n",
    "ohe = OneHotEncoder()\n",
    "x_encoded = ohe.fit_transform(x[categorical_cols])"
   ]
  },
  {
   "cell_type": "code",
   "execution_count": 227,
   "id": "18f80777",
   "metadata": {},
   "outputs": [],
   "source": [
    "X_train, X_test, y_train, y_test = tts(x_encoded, y, test_size=0.2, random_state=42)"
   ]
  },
  {
   "cell_type": "code",
   "execution_count": 228,
   "id": "e7f96449",
   "metadata": {},
   "outputs": [
    {
     "data": {
      "text/plain": [
       "(1854, 300)"
      ]
     },
     "execution_count": 228,
     "metadata": {},
     "output_type": "execute_result"
    }
   ],
   "source": [
    "X_train.shape"
   ]
  },
  {
   "cell_type": "code",
   "execution_count": 229,
   "id": "c9aa189f",
   "metadata": {},
   "outputs": [
    {
     "data": {
      "text/html": [
       "<style>#sk-container-id-2 {\n",
       "  /* Definition of color scheme common for light and dark mode */\n",
       "  --sklearn-color-text: black;\n",
       "  --sklearn-color-line: gray;\n",
       "  /* Definition of color scheme for unfitted estimators */\n",
       "  --sklearn-color-unfitted-level-0: #fff5e6;\n",
       "  --sklearn-color-unfitted-level-1: #f6e4d2;\n",
       "  --sklearn-color-unfitted-level-2: #ffe0b3;\n",
       "  --sklearn-color-unfitted-level-3: chocolate;\n",
       "  /* Definition of color scheme for fitted estimators */\n",
       "  --sklearn-color-fitted-level-0: #f0f8ff;\n",
       "  --sklearn-color-fitted-level-1: #d4ebff;\n",
       "  --sklearn-color-fitted-level-2: #b3dbfd;\n",
       "  --sklearn-color-fitted-level-3: cornflowerblue;\n",
       "\n",
       "  /* Specific color for light theme */\n",
       "  --sklearn-color-text-on-default-background: var(--sg-text-color, var(--theme-code-foreground, var(--jp-content-font-color1, black)));\n",
       "  --sklearn-color-background: var(--sg-background-color, var(--theme-background, var(--jp-layout-color0, white)));\n",
       "  --sklearn-color-border-box: var(--sg-text-color, var(--theme-code-foreground, var(--jp-content-font-color1, black)));\n",
       "  --sklearn-color-icon: #696969;\n",
       "\n",
       "  @media (prefers-color-scheme: dark) {\n",
       "    /* Redefinition of color scheme for dark theme */\n",
       "    --sklearn-color-text-on-default-background: var(--sg-text-color, var(--theme-code-foreground, var(--jp-content-font-color1, white)));\n",
       "    --sklearn-color-background: var(--sg-background-color, var(--theme-background, var(--jp-layout-color0, #111)));\n",
       "    --sklearn-color-border-box: var(--sg-text-color, var(--theme-code-foreground, var(--jp-content-font-color1, white)));\n",
       "    --sklearn-color-icon: #878787;\n",
       "  }\n",
       "}\n",
       "\n",
       "#sk-container-id-2 {\n",
       "  color: var(--sklearn-color-text);\n",
       "}\n",
       "\n",
       "#sk-container-id-2 pre {\n",
       "  padding: 0;\n",
       "}\n",
       "\n",
       "#sk-container-id-2 input.sk-hidden--visually {\n",
       "  border: 0;\n",
       "  clip: rect(1px 1px 1px 1px);\n",
       "  clip: rect(1px, 1px, 1px, 1px);\n",
       "  height: 1px;\n",
       "  margin: -1px;\n",
       "  overflow: hidden;\n",
       "  padding: 0;\n",
       "  position: absolute;\n",
       "  width: 1px;\n",
       "}\n",
       "\n",
       "#sk-container-id-2 div.sk-dashed-wrapped {\n",
       "  border: 1px dashed var(--sklearn-color-line);\n",
       "  margin: 0 0.4em 0.5em 0.4em;\n",
       "  box-sizing: border-box;\n",
       "  padding-bottom: 0.4em;\n",
       "  background-color: var(--sklearn-color-background);\n",
       "}\n",
       "\n",
       "#sk-container-id-2 div.sk-container {\n",
       "  /* jupyter's `normalize.less` sets `[hidden] { display: none; }`\n",
       "     but bootstrap.min.css set `[hidden] { display: none !important; }`\n",
       "     so we also need the `!important` here to be able to override the\n",
       "     default hidden behavior on the sphinx rendered scikit-learn.org.\n",
       "     See: https://github.com/scikit-learn/scikit-learn/issues/21755 */\n",
       "  display: inline-block !important;\n",
       "  position: relative;\n",
       "}\n",
       "\n",
       "#sk-container-id-2 div.sk-text-repr-fallback {\n",
       "  display: none;\n",
       "}\n",
       "\n",
       "div.sk-parallel-item,\n",
       "div.sk-serial,\n",
       "div.sk-item {\n",
       "  /* draw centered vertical line to link estimators */\n",
       "  background-image: linear-gradient(var(--sklearn-color-text-on-default-background), var(--sklearn-color-text-on-default-background));\n",
       "  background-size: 2px 100%;\n",
       "  background-repeat: no-repeat;\n",
       "  background-position: center center;\n",
       "}\n",
       "\n",
       "/* Parallel-specific style estimator block */\n",
       "\n",
       "#sk-container-id-2 div.sk-parallel-item::after {\n",
       "  content: \"\";\n",
       "  width: 100%;\n",
       "  border-bottom: 2px solid var(--sklearn-color-text-on-default-background);\n",
       "  flex-grow: 1;\n",
       "}\n",
       "\n",
       "#sk-container-id-2 div.sk-parallel {\n",
       "  display: flex;\n",
       "  align-items: stretch;\n",
       "  justify-content: center;\n",
       "  background-color: var(--sklearn-color-background);\n",
       "  position: relative;\n",
       "}\n",
       "\n",
       "#sk-container-id-2 div.sk-parallel-item {\n",
       "  display: flex;\n",
       "  flex-direction: column;\n",
       "}\n",
       "\n",
       "#sk-container-id-2 div.sk-parallel-item:first-child::after {\n",
       "  align-self: flex-end;\n",
       "  width: 50%;\n",
       "}\n",
       "\n",
       "#sk-container-id-2 div.sk-parallel-item:last-child::after {\n",
       "  align-self: flex-start;\n",
       "  width: 50%;\n",
       "}\n",
       "\n",
       "#sk-container-id-2 div.sk-parallel-item:only-child::after {\n",
       "  width: 0;\n",
       "}\n",
       "\n",
       "/* Serial-specific style estimator block */\n",
       "\n",
       "#sk-container-id-2 div.sk-serial {\n",
       "  display: flex;\n",
       "  flex-direction: column;\n",
       "  align-items: center;\n",
       "  background-color: var(--sklearn-color-background);\n",
       "  padding-right: 1em;\n",
       "  padding-left: 1em;\n",
       "}\n",
       "\n",
       "\n",
       "/* Toggleable style: style used for estimator/Pipeline/ColumnTransformer box that is\n",
       "clickable and can be expanded/collapsed.\n",
       "- Pipeline and ColumnTransformer use this feature and define the default style\n",
       "- Estimators will overwrite some part of the style using the `sk-estimator` class\n",
       "*/\n",
       "\n",
       "/* Pipeline and ColumnTransformer style (default) */\n",
       "\n",
       "#sk-container-id-2 div.sk-toggleable {\n",
       "  /* Default theme specific background. It is overwritten whether we have a\n",
       "  specific estimator or a Pipeline/ColumnTransformer */\n",
       "  background-color: var(--sklearn-color-background);\n",
       "}\n",
       "\n",
       "/* Toggleable label */\n",
       "#sk-container-id-2 label.sk-toggleable__label {\n",
       "  cursor: pointer;\n",
       "  display: block;\n",
       "  width: 100%;\n",
       "  margin-bottom: 0;\n",
       "  padding: 0.5em;\n",
       "  box-sizing: border-box;\n",
       "  text-align: center;\n",
       "}\n",
       "\n",
       "#sk-container-id-2 label.sk-toggleable__label-arrow:before {\n",
       "  /* Arrow on the left of the label */\n",
       "  content: \"▸\";\n",
       "  float: left;\n",
       "  margin-right: 0.25em;\n",
       "  color: var(--sklearn-color-icon);\n",
       "}\n",
       "\n",
       "#sk-container-id-2 label.sk-toggleable__label-arrow:hover:before {\n",
       "  color: var(--sklearn-color-text);\n",
       "}\n",
       "\n",
       "/* Toggleable content - dropdown */\n",
       "\n",
       "#sk-container-id-2 div.sk-toggleable__content {\n",
       "  max-height: 0;\n",
       "  max-width: 0;\n",
       "  overflow: hidden;\n",
       "  text-align: left;\n",
       "  /* unfitted */\n",
       "  background-color: var(--sklearn-color-unfitted-level-0);\n",
       "}\n",
       "\n",
       "#sk-container-id-2 div.sk-toggleable__content.fitted {\n",
       "  /* fitted */\n",
       "  background-color: var(--sklearn-color-fitted-level-0);\n",
       "}\n",
       "\n",
       "#sk-container-id-2 div.sk-toggleable__content pre {\n",
       "  margin: 0.2em;\n",
       "  border-radius: 0.25em;\n",
       "  color: var(--sklearn-color-text);\n",
       "  /* unfitted */\n",
       "  background-color: var(--sklearn-color-unfitted-level-0);\n",
       "}\n",
       "\n",
       "#sk-container-id-2 div.sk-toggleable__content.fitted pre {\n",
       "  /* unfitted */\n",
       "  background-color: var(--sklearn-color-fitted-level-0);\n",
       "}\n",
       "\n",
       "#sk-container-id-2 input.sk-toggleable__control:checked~div.sk-toggleable__content {\n",
       "  /* Expand drop-down */\n",
       "  max-height: 200px;\n",
       "  max-width: 100%;\n",
       "  overflow: auto;\n",
       "}\n",
       "\n",
       "#sk-container-id-2 input.sk-toggleable__control:checked~label.sk-toggleable__label-arrow:before {\n",
       "  content: \"▾\";\n",
       "}\n",
       "\n",
       "/* Pipeline/ColumnTransformer-specific style */\n",
       "\n",
       "#sk-container-id-2 div.sk-label input.sk-toggleable__control:checked~label.sk-toggleable__label {\n",
       "  color: var(--sklearn-color-text);\n",
       "  background-color: var(--sklearn-color-unfitted-level-2);\n",
       "}\n",
       "\n",
       "#sk-container-id-2 div.sk-label.fitted input.sk-toggleable__control:checked~label.sk-toggleable__label {\n",
       "  background-color: var(--sklearn-color-fitted-level-2);\n",
       "}\n",
       "\n",
       "/* Estimator-specific style */\n",
       "\n",
       "/* Colorize estimator box */\n",
       "#sk-container-id-2 div.sk-estimator input.sk-toggleable__control:checked~label.sk-toggleable__label {\n",
       "  /* unfitted */\n",
       "  background-color: var(--sklearn-color-unfitted-level-2);\n",
       "}\n",
       "\n",
       "#sk-container-id-2 div.sk-estimator.fitted input.sk-toggleable__control:checked~label.sk-toggleable__label {\n",
       "  /* fitted */\n",
       "  background-color: var(--sklearn-color-fitted-level-2);\n",
       "}\n",
       "\n",
       "#sk-container-id-2 div.sk-label label.sk-toggleable__label,\n",
       "#sk-container-id-2 div.sk-label label {\n",
       "  /* The background is the default theme color */\n",
       "  color: var(--sklearn-color-text-on-default-background);\n",
       "}\n",
       "\n",
       "/* On hover, darken the color of the background */\n",
       "#sk-container-id-2 div.sk-label:hover label.sk-toggleable__label {\n",
       "  color: var(--sklearn-color-text);\n",
       "  background-color: var(--sklearn-color-unfitted-level-2);\n",
       "}\n",
       "\n",
       "/* Label box, darken color on hover, fitted */\n",
       "#sk-container-id-2 div.sk-label.fitted:hover label.sk-toggleable__label.fitted {\n",
       "  color: var(--sklearn-color-text);\n",
       "  background-color: var(--sklearn-color-fitted-level-2);\n",
       "}\n",
       "\n",
       "/* Estimator label */\n",
       "\n",
       "#sk-container-id-2 div.sk-label label {\n",
       "  font-family: monospace;\n",
       "  font-weight: bold;\n",
       "  display: inline-block;\n",
       "  line-height: 1.2em;\n",
       "}\n",
       "\n",
       "#sk-container-id-2 div.sk-label-container {\n",
       "  text-align: center;\n",
       "}\n",
       "\n",
       "/* Estimator-specific */\n",
       "#sk-container-id-2 div.sk-estimator {\n",
       "  font-family: monospace;\n",
       "  border: 1px dotted var(--sklearn-color-border-box);\n",
       "  border-radius: 0.25em;\n",
       "  box-sizing: border-box;\n",
       "  margin-bottom: 0.5em;\n",
       "  /* unfitted */\n",
       "  background-color: var(--sklearn-color-unfitted-level-0);\n",
       "}\n",
       "\n",
       "#sk-container-id-2 div.sk-estimator.fitted {\n",
       "  /* fitted */\n",
       "  background-color: var(--sklearn-color-fitted-level-0);\n",
       "}\n",
       "\n",
       "/* on hover */\n",
       "#sk-container-id-2 div.sk-estimator:hover {\n",
       "  /* unfitted */\n",
       "  background-color: var(--sklearn-color-unfitted-level-2);\n",
       "}\n",
       "\n",
       "#sk-container-id-2 div.sk-estimator.fitted:hover {\n",
       "  /* fitted */\n",
       "  background-color: var(--sklearn-color-fitted-level-2);\n",
       "}\n",
       "\n",
       "/* Specification for estimator info (e.g. \"i\" and \"?\") */\n",
       "\n",
       "/* Common style for \"i\" and \"?\" */\n",
       "\n",
       ".sk-estimator-doc-link,\n",
       "a:link.sk-estimator-doc-link,\n",
       "a:visited.sk-estimator-doc-link {\n",
       "  float: right;\n",
       "  font-size: smaller;\n",
       "  line-height: 1em;\n",
       "  font-family: monospace;\n",
       "  background-color: var(--sklearn-color-background);\n",
       "  border-radius: 1em;\n",
       "  height: 1em;\n",
       "  width: 1em;\n",
       "  text-decoration: none !important;\n",
       "  margin-left: 1ex;\n",
       "  /* unfitted */\n",
       "  border: var(--sklearn-color-unfitted-level-1) 1pt solid;\n",
       "  color: var(--sklearn-color-unfitted-level-1);\n",
       "}\n",
       "\n",
       ".sk-estimator-doc-link.fitted,\n",
       "a:link.sk-estimator-doc-link.fitted,\n",
       "a:visited.sk-estimator-doc-link.fitted {\n",
       "  /* fitted */\n",
       "  border: var(--sklearn-color-fitted-level-1) 1pt solid;\n",
       "  color: var(--sklearn-color-fitted-level-1);\n",
       "}\n",
       "\n",
       "/* On hover */\n",
       "div.sk-estimator:hover .sk-estimator-doc-link:hover,\n",
       ".sk-estimator-doc-link:hover,\n",
       "div.sk-label-container:hover .sk-estimator-doc-link:hover,\n",
       ".sk-estimator-doc-link:hover {\n",
       "  /* unfitted */\n",
       "  background-color: var(--sklearn-color-unfitted-level-3);\n",
       "  color: var(--sklearn-color-background);\n",
       "  text-decoration: none;\n",
       "}\n",
       "\n",
       "div.sk-estimator.fitted:hover .sk-estimator-doc-link.fitted:hover,\n",
       ".sk-estimator-doc-link.fitted:hover,\n",
       "div.sk-label-container:hover .sk-estimator-doc-link.fitted:hover,\n",
       ".sk-estimator-doc-link.fitted:hover {\n",
       "  /* fitted */\n",
       "  background-color: var(--sklearn-color-fitted-level-3);\n",
       "  color: var(--sklearn-color-background);\n",
       "  text-decoration: none;\n",
       "}\n",
       "\n",
       "/* Span, style for the box shown on hovering the info icon */\n",
       ".sk-estimator-doc-link span {\n",
       "  display: none;\n",
       "  z-index: 9999;\n",
       "  position: relative;\n",
       "  font-weight: normal;\n",
       "  right: .2ex;\n",
       "  padding: .5ex;\n",
       "  margin: .5ex;\n",
       "  width: min-content;\n",
       "  min-width: 20ex;\n",
       "  max-width: 50ex;\n",
       "  color: var(--sklearn-color-text);\n",
       "  box-shadow: 2pt 2pt 4pt #999;\n",
       "  /* unfitted */\n",
       "  background: var(--sklearn-color-unfitted-level-0);\n",
       "  border: .5pt solid var(--sklearn-color-unfitted-level-3);\n",
       "}\n",
       "\n",
       ".sk-estimator-doc-link.fitted span {\n",
       "  /* fitted */\n",
       "  background: var(--sklearn-color-fitted-level-0);\n",
       "  border: var(--sklearn-color-fitted-level-3);\n",
       "}\n",
       "\n",
       ".sk-estimator-doc-link:hover span {\n",
       "  display: block;\n",
       "}\n",
       "\n",
       "/* \"?\"-specific style due to the `<a>` HTML tag */\n",
       "\n",
       "#sk-container-id-2 a.estimator_doc_link {\n",
       "  float: right;\n",
       "  font-size: 1rem;\n",
       "  line-height: 1em;\n",
       "  font-family: monospace;\n",
       "  background-color: var(--sklearn-color-background);\n",
       "  border-radius: 1rem;\n",
       "  height: 1rem;\n",
       "  width: 1rem;\n",
       "  text-decoration: none;\n",
       "  /* unfitted */\n",
       "  color: var(--sklearn-color-unfitted-level-1);\n",
       "  border: var(--sklearn-color-unfitted-level-1) 1pt solid;\n",
       "}\n",
       "\n",
       "#sk-container-id-2 a.estimator_doc_link.fitted {\n",
       "  /* fitted */\n",
       "  border: var(--sklearn-color-fitted-level-1) 1pt solid;\n",
       "  color: var(--sklearn-color-fitted-level-1);\n",
       "}\n",
       "\n",
       "/* On hover */\n",
       "#sk-container-id-2 a.estimator_doc_link:hover {\n",
       "  /* unfitted */\n",
       "  background-color: var(--sklearn-color-unfitted-level-3);\n",
       "  color: var(--sklearn-color-background);\n",
       "  text-decoration: none;\n",
       "}\n",
       "\n",
       "#sk-container-id-2 a.estimator_doc_link.fitted:hover {\n",
       "  /* fitted */\n",
       "  background-color: var(--sklearn-color-fitted-level-3);\n",
       "}\n",
       "</style><div id=\"sk-container-id-2\" class=\"sk-top-container\"><div class=\"sk-text-repr-fallback\"><pre>LinearRegression()</pre><b>In a Jupyter environment, please rerun this cell to show the HTML representation or trust the notebook. <br />On GitHub, the HTML representation is unable to render, please try loading this page with nbviewer.org.</b></div><div class=\"sk-container\" hidden><div class=\"sk-item\"><div class=\"sk-estimator fitted sk-toggleable\"><input class=\"sk-toggleable__control sk-hidden--visually\" id=\"sk-estimator-id-2\" type=\"checkbox\" checked><label for=\"sk-estimator-id-2\" class=\"sk-toggleable__label fitted sk-toggleable__label-arrow fitted\">&nbsp;&nbsp;LinearRegression<a class=\"sk-estimator-doc-link fitted\" rel=\"noreferrer\" target=\"_blank\" href=\"https://scikit-learn.org/1.4/modules/generated/sklearn.linear_model.LinearRegression.html\">?<span>Documentation for LinearRegression</span></a><span class=\"sk-estimator-doc-link fitted\">i<span>Fitted</span></span></label><div class=\"sk-toggleable__content fitted\"><pre>LinearRegression()</pre></div> </div></div></div></div>"
      ],
      "text/plain": [
       "LinearRegression()"
      ]
     },
     "execution_count": 229,
     "metadata": {},
     "output_type": "execute_result"
    }
   ],
   "source": [
    "model = LinearRegression()\n",
    "model.fit(X_train, y_train)"
   ]
  },
  {
   "cell_type": "code",
   "execution_count": 230,
   "id": "fe91ecfc",
   "metadata": {},
   "outputs": [],
   "source": [
    "y_pred = model.predict(X_test)"
   ]
  },
  {
   "cell_type": "code",
   "execution_count": 233,
   "id": "56b52852",
   "metadata": {},
   "outputs": [
    {
     "data": {
      "text/plain": [
       "0.3835703663191745"
      ]
     },
     "execution_count": 233,
     "metadata": {},
     "output_type": "execute_result"
    }
   ],
   "source": [
    "model.score(X_train,y_train)"
   ]
  },
  {
   "cell_type": "code",
   "execution_count": 234,
   "id": "bdbfdb01",
   "metadata": {},
   "outputs": [
    {
     "data": {
      "text/plain": [
       "0.13911485099488963"
      ]
     },
     "execution_count": 234,
     "metadata": {},
     "output_type": "execute_result"
    }
   ],
   "source": [
    "model.score(X_test, y_test)"
   ]
  },
  {
   "cell_type": "code",
   "execution_count": 235,
   "id": "31fdda87",
   "metadata": {},
   "outputs": [],
   "source": [
    "mse = mean_squared_error(y_test, y_pred)"
   ]
  },
  {
   "cell_type": "code",
   "execution_count": 236,
   "id": "0624582a",
   "metadata": {},
   "outputs": [
    {
     "data": {
      "text/plain": [
       "71037.26509748728"
      ]
     },
     "execution_count": 236,
     "metadata": {},
     "output_type": "execute_result"
    }
   ],
   "source": [
    "mse"
   ]
  },
  {
   "cell_type": "code",
   "execution_count": 239,
   "id": "90b31abc",
   "metadata": {},
   "outputs": [],
   "source": [
    "r2 = r2_score(y_test, y_pred)"
   ]
  },
  {
   "cell_type": "code",
   "execution_count": 240,
   "id": "12fc46f5",
   "metadata": {},
   "outputs": [
    {
     "data": {
      "text/plain": [
       "0.13911485099488963"
      ]
     },
     "execution_count": 240,
     "metadata": {},
     "output_type": "execute_result"
    }
   ],
   "source": [
    "r2"
   ]
  },
  {
   "cell_type": "code",
   "execution_count": 241,
   "id": "55ff6d62",
   "metadata": {},
   "outputs": [
    {
     "data": {
      "text/plain": [
       "219.18566935478924"
      ]
     },
     "execution_count": 241,
     "metadata": {},
     "output_type": "execute_result"
    }
   ],
   "source": [
    "mean_absolute_error(y_test, y_pred)"
   ]
  },
  {
   "cell_type": "code",
   "execution_count": 245,
   "id": "0ee0d2e1",
   "metadata": {},
   "outputs": [],
   "source": [
    "from sklearn.tree import DecisionTreeRegressor"
   ]
  },
  {
   "cell_type": "code",
   "execution_count": 248,
   "id": "2314c846",
   "metadata": {},
   "outputs": [
    {
     "data": {
      "text/html": [
       "<style>#sk-container-id-3 {\n",
       "  /* Definition of color scheme common for light and dark mode */\n",
       "  --sklearn-color-text: black;\n",
       "  --sklearn-color-line: gray;\n",
       "  /* Definition of color scheme for unfitted estimators */\n",
       "  --sklearn-color-unfitted-level-0: #fff5e6;\n",
       "  --sklearn-color-unfitted-level-1: #f6e4d2;\n",
       "  --sklearn-color-unfitted-level-2: #ffe0b3;\n",
       "  --sklearn-color-unfitted-level-3: chocolate;\n",
       "  /* Definition of color scheme for fitted estimators */\n",
       "  --sklearn-color-fitted-level-0: #f0f8ff;\n",
       "  --sklearn-color-fitted-level-1: #d4ebff;\n",
       "  --sklearn-color-fitted-level-2: #b3dbfd;\n",
       "  --sklearn-color-fitted-level-3: cornflowerblue;\n",
       "\n",
       "  /* Specific color for light theme */\n",
       "  --sklearn-color-text-on-default-background: var(--sg-text-color, var(--theme-code-foreground, var(--jp-content-font-color1, black)));\n",
       "  --sklearn-color-background: var(--sg-background-color, var(--theme-background, var(--jp-layout-color0, white)));\n",
       "  --sklearn-color-border-box: var(--sg-text-color, var(--theme-code-foreground, var(--jp-content-font-color1, black)));\n",
       "  --sklearn-color-icon: #696969;\n",
       "\n",
       "  @media (prefers-color-scheme: dark) {\n",
       "    /* Redefinition of color scheme for dark theme */\n",
       "    --sklearn-color-text-on-default-background: var(--sg-text-color, var(--theme-code-foreground, var(--jp-content-font-color1, white)));\n",
       "    --sklearn-color-background: var(--sg-background-color, var(--theme-background, var(--jp-layout-color0, #111)));\n",
       "    --sklearn-color-border-box: var(--sg-text-color, var(--theme-code-foreground, var(--jp-content-font-color1, white)));\n",
       "    --sklearn-color-icon: #878787;\n",
       "  }\n",
       "}\n",
       "\n",
       "#sk-container-id-3 {\n",
       "  color: var(--sklearn-color-text);\n",
       "}\n",
       "\n",
       "#sk-container-id-3 pre {\n",
       "  padding: 0;\n",
       "}\n",
       "\n",
       "#sk-container-id-3 input.sk-hidden--visually {\n",
       "  border: 0;\n",
       "  clip: rect(1px 1px 1px 1px);\n",
       "  clip: rect(1px, 1px, 1px, 1px);\n",
       "  height: 1px;\n",
       "  margin: -1px;\n",
       "  overflow: hidden;\n",
       "  padding: 0;\n",
       "  position: absolute;\n",
       "  width: 1px;\n",
       "}\n",
       "\n",
       "#sk-container-id-3 div.sk-dashed-wrapped {\n",
       "  border: 1px dashed var(--sklearn-color-line);\n",
       "  margin: 0 0.4em 0.5em 0.4em;\n",
       "  box-sizing: border-box;\n",
       "  padding-bottom: 0.4em;\n",
       "  background-color: var(--sklearn-color-background);\n",
       "}\n",
       "\n",
       "#sk-container-id-3 div.sk-container {\n",
       "  /* jupyter's `normalize.less` sets `[hidden] { display: none; }`\n",
       "     but bootstrap.min.css set `[hidden] { display: none !important; }`\n",
       "     so we also need the `!important` here to be able to override the\n",
       "     default hidden behavior on the sphinx rendered scikit-learn.org.\n",
       "     See: https://github.com/scikit-learn/scikit-learn/issues/21755 */\n",
       "  display: inline-block !important;\n",
       "  position: relative;\n",
       "}\n",
       "\n",
       "#sk-container-id-3 div.sk-text-repr-fallback {\n",
       "  display: none;\n",
       "}\n",
       "\n",
       "div.sk-parallel-item,\n",
       "div.sk-serial,\n",
       "div.sk-item {\n",
       "  /* draw centered vertical line to link estimators */\n",
       "  background-image: linear-gradient(var(--sklearn-color-text-on-default-background), var(--sklearn-color-text-on-default-background));\n",
       "  background-size: 2px 100%;\n",
       "  background-repeat: no-repeat;\n",
       "  background-position: center center;\n",
       "}\n",
       "\n",
       "/* Parallel-specific style estimator block */\n",
       "\n",
       "#sk-container-id-3 div.sk-parallel-item::after {\n",
       "  content: \"\";\n",
       "  width: 100%;\n",
       "  border-bottom: 2px solid var(--sklearn-color-text-on-default-background);\n",
       "  flex-grow: 1;\n",
       "}\n",
       "\n",
       "#sk-container-id-3 div.sk-parallel {\n",
       "  display: flex;\n",
       "  align-items: stretch;\n",
       "  justify-content: center;\n",
       "  background-color: var(--sklearn-color-background);\n",
       "  position: relative;\n",
       "}\n",
       "\n",
       "#sk-container-id-3 div.sk-parallel-item {\n",
       "  display: flex;\n",
       "  flex-direction: column;\n",
       "}\n",
       "\n",
       "#sk-container-id-3 div.sk-parallel-item:first-child::after {\n",
       "  align-self: flex-end;\n",
       "  width: 50%;\n",
       "}\n",
       "\n",
       "#sk-container-id-3 div.sk-parallel-item:last-child::after {\n",
       "  align-self: flex-start;\n",
       "  width: 50%;\n",
       "}\n",
       "\n",
       "#sk-container-id-3 div.sk-parallel-item:only-child::after {\n",
       "  width: 0;\n",
       "}\n",
       "\n",
       "/* Serial-specific style estimator block */\n",
       "\n",
       "#sk-container-id-3 div.sk-serial {\n",
       "  display: flex;\n",
       "  flex-direction: column;\n",
       "  align-items: center;\n",
       "  background-color: var(--sklearn-color-background);\n",
       "  padding-right: 1em;\n",
       "  padding-left: 1em;\n",
       "}\n",
       "\n",
       "\n",
       "/* Toggleable style: style used for estimator/Pipeline/ColumnTransformer box that is\n",
       "clickable and can be expanded/collapsed.\n",
       "- Pipeline and ColumnTransformer use this feature and define the default style\n",
       "- Estimators will overwrite some part of the style using the `sk-estimator` class\n",
       "*/\n",
       "\n",
       "/* Pipeline and ColumnTransformer style (default) */\n",
       "\n",
       "#sk-container-id-3 div.sk-toggleable {\n",
       "  /* Default theme specific background. It is overwritten whether we have a\n",
       "  specific estimator or a Pipeline/ColumnTransformer */\n",
       "  background-color: var(--sklearn-color-background);\n",
       "}\n",
       "\n",
       "/* Toggleable label */\n",
       "#sk-container-id-3 label.sk-toggleable__label {\n",
       "  cursor: pointer;\n",
       "  display: block;\n",
       "  width: 100%;\n",
       "  margin-bottom: 0;\n",
       "  padding: 0.5em;\n",
       "  box-sizing: border-box;\n",
       "  text-align: center;\n",
       "}\n",
       "\n",
       "#sk-container-id-3 label.sk-toggleable__label-arrow:before {\n",
       "  /* Arrow on the left of the label */\n",
       "  content: \"▸\";\n",
       "  float: left;\n",
       "  margin-right: 0.25em;\n",
       "  color: var(--sklearn-color-icon);\n",
       "}\n",
       "\n",
       "#sk-container-id-3 label.sk-toggleable__label-arrow:hover:before {\n",
       "  color: var(--sklearn-color-text);\n",
       "}\n",
       "\n",
       "/* Toggleable content - dropdown */\n",
       "\n",
       "#sk-container-id-3 div.sk-toggleable__content {\n",
       "  max-height: 0;\n",
       "  max-width: 0;\n",
       "  overflow: hidden;\n",
       "  text-align: left;\n",
       "  /* unfitted */\n",
       "  background-color: var(--sklearn-color-unfitted-level-0);\n",
       "}\n",
       "\n",
       "#sk-container-id-3 div.sk-toggleable__content.fitted {\n",
       "  /* fitted */\n",
       "  background-color: var(--sklearn-color-fitted-level-0);\n",
       "}\n",
       "\n",
       "#sk-container-id-3 div.sk-toggleable__content pre {\n",
       "  margin: 0.2em;\n",
       "  border-radius: 0.25em;\n",
       "  color: var(--sklearn-color-text);\n",
       "  /* unfitted */\n",
       "  background-color: var(--sklearn-color-unfitted-level-0);\n",
       "}\n",
       "\n",
       "#sk-container-id-3 div.sk-toggleable__content.fitted pre {\n",
       "  /* unfitted */\n",
       "  background-color: var(--sklearn-color-fitted-level-0);\n",
       "}\n",
       "\n",
       "#sk-container-id-3 input.sk-toggleable__control:checked~div.sk-toggleable__content {\n",
       "  /* Expand drop-down */\n",
       "  max-height: 200px;\n",
       "  max-width: 100%;\n",
       "  overflow: auto;\n",
       "}\n",
       "\n",
       "#sk-container-id-3 input.sk-toggleable__control:checked~label.sk-toggleable__label-arrow:before {\n",
       "  content: \"▾\";\n",
       "}\n",
       "\n",
       "/* Pipeline/ColumnTransformer-specific style */\n",
       "\n",
       "#sk-container-id-3 div.sk-label input.sk-toggleable__control:checked~label.sk-toggleable__label {\n",
       "  color: var(--sklearn-color-text);\n",
       "  background-color: var(--sklearn-color-unfitted-level-2);\n",
       "}\n",
       "\n",
       "#sk-container-id-3 div.sk-label.fitted input.sk-toggleable__control:checked~label.sk-toggleable__label {\n",
       "  background-color: var(--sklearn-color-fitted-level-2);\n",
       "}\n",
       "\n",
       "/* Estimator-specific style */\n",
       "\n",
       "/* Colorize estimator box */\n",
       "#sk-container-id-3 div.sk-estimator input.sk-toggleable__control:checked~label.sk-toggleable__label {\n",
       "  /* unfitted */\n",
       "  background-color: var(--sklearn-color-unfitted-level-2);\n",
       "}\n",
       "\n",
       "#sk-container-id-3 div.sk-estimator.fitted input.sk-toggleable__control:checked~label.sk-toggleable__label {\n",
       "  /* fitted */\n",
       "  background-color: var(--sklearn-color-fitted-level-2);\n",
       "}\n",
       "\n",
       "#sk-container-id-3 div.sk-label label.sk-toggleable__label,\n",
       "#sk-container-id-3 div.sk-label label {\n",
       "  /* The background is the default theme color */\n",
       "  color: var(--sklearn-color-text-on-default-background);\n",
       "}\n",
       "\n",
       "/* On hover, darken the color of the background */\n",
       "#sk-container-id-3 div.sk-label:hover label.sk-toggleable__label {\n",
       "  color: var(--sklearn-color-text);\n",
       "  background-color: var(--sklearn-color-unfitted-level-2);\n",
       "}\n",
       "\n",
       "/* Label box, darken color on hover, fitted */\n",
       "#sk-container-id-3 div.sk-label.fitted:hover label.sk-toggleable__label.fitted {\n",
       "  color: var(--sklearn-color-text);\n",
       "  background-color: var(--sklearn-color-fitted-level-2);\n",
       "}\n",
       "\n",
       "/* Estimator label */\n",
       "\n",
       "#sk-container-id-3 div.sk-label label {\n",
       "  font-family: monospace;\n",
       "  font-weight: bold;\n",
       "  display: inline-block;\n",
       "  line-height: 1.2em;\n",
       "}\n",
       "\n",
       "#sk-container-id-3 div.sk-label-container {\n",
       "  text-align: center;\n",
       "}\n",
       "\n",
       "/* Estimator-specific */\n",
       "#sk-container-id-3 div.sk-estimator {\n",
       "  font-family: monospace;\n",
       "  border: 1px dotted var(--sklearn-color-border-box);\n",
       "  border-radius: 0.25em;\n",
       "  box-sizing: border-box;\n",
       "  margin-bottom: 0.5em;\n",
       "  /* unfitted */\n",
       "  background-color: var(--sklearn-color-unfitted-level-0);\n",
       "}\n",
       "\n",
       "#sk-container-id-3 div.sk-estimator.fitted {\n",
       "  /* fitted */\n",
       "  background-color: var(--sklearn-color-fitted-level-0);\n",
       "}\n",
       "\n",
       "/* on hover */\n",
       "#sk-container-id-3 div.sk-estimator:hover {\n",
       "  /* unfitted */\n",
       "  background-color: var(--sklearn-color-unfitted-level-2);\n",
       "}\n",
       "\n",
       "#sk-container-id-3 div.sk-estimator.fitted:hover {\n",
       "  /* fitted */\n",
       "  background-color: var(--sklearn-color-fitted-level-2);\n",
       "}\n",
       "\n",
       "/* Specification for estimator info (e.g. \"i\" and \"?\") */\n",
       "\n",
       "/* Common style for \"i\" and \"?\" */\n",
       "\n",
       ".sk-estimator-doc-link,\n",
       "a:link.sk-estimator-doc-link,\n",
       "a:visited.sk-estimator-doc-link {\n",
       "  float: right;\n",
       "  font-size: smaller;\n",
       "  line-height: 1em;\n",
       "  font-family: monospace;\n",
       "  background-color: var(--sklearn-color-background);\n",
       "  border-radius: 1em;\n",
       "  height: 1em;\n",
       "  width: 1em;\n",
       "  text-decoration: none !important;\n",
       "  margin-left: 1ex;\n",
       "  /* unfitted */\n",
       "  border: var(--sklearn-color-unfitted-level-1) 1pt solid;\n",
       "  color: var(--sklearn-color-unfitted-level-1);\n",
       "}\n",
       "\n",
       ".sk-estimator-doc-link.fitted,\n",
       "a:link.sk-estimator-doc-link.fitted,\n",
       "a:visited.sk-estimator-doc-link.fitted {\n",
       "  /* fitted */\n",
       "  border: var(--sklearn-color-fitted-level-1) 1pt solid;\n",
       "  color: var(--sklearn-color-fitted-level-1);\n",
       "}\n",
       "\n",
       "/* On hover */\n",
       "div.sk-estimator:hover .sk-estimator-doc-link:hover,\n",
       ".sk-estimator-doc-link:hover,\n",
       "div.sk-label-container:hover .sk-estimator-doc-link:hover,\n",
       ".sk-estimator-doc-link:hover {\n",
       "  /* unfitted */\n",
       "  background-color: var(--sklearn-color-unfitted-level-3);\n",
       "  color: var(--sklearn-color-background);\n",
       "  text-decoration: none;\n",
       "}\n",
       "\n",
       "div.sk-estimator.fitted:hover .sk-estimator-doc-link.fitted:hover,\n",
       ".sk-estimator-doc-link.fitted:hover,\n",
       "div.sk-label-container:hover .sk-estimator-doc-link.fitted:hover,\n",
       ".sk-estimator-doc-link.fitted:hover {\n",
       "  /* fitted */\n",
       "  background-color: var(--sklearn-color-fitted-level-3);\n",
       "  color: var(--sklearn-color-background);\n",
       "  text-decoration: none;\n",
       "}\n",
       "\n",
       "/* Span, style for the box shown on hovering the info icon */\n",
       ".sk-estimator-doc-link span {\n",
       "  display: none;\n",
       "  z-index: 9999;\n",
       "  position: relative;\n",
       "  font-weight: normal;\n",
       "  right: .2ex;\n",
       "  padding: .5ex;\n",
       "  margin: .5ex;\n",
       "  width: min-content;\n",
       "  min-width: 20ex;\n",
       "  max-width: 50ex;\n",
       "  color: var(--sklearn-color-text);\n",
       "  box-shadow: 2pt 2pt 4pt #999;\n",
       "  /* unfitted */\n",
       "  background: var(--sklearn-color-unfitted-level-0);\n",
       "  border: .5pt solid var(--sklearn-color-unfitted-level-3);\n",
       "}\n",
       "\n",
       ".sk-estimator-doc-link.fitted span {\n",
       "  /* fitted */\n",
       "  background: var(--sklearn-color-fitted-level-0);\n",
       "  border: var(--sklearn-color-fitted-level-3);\n",
       "}\n",
       "\n",
       ".sk-estimator-doc-link:hover span {\n",
       "  display: block;\n",
       "}\n",
       "\n",
       "/* \"?\"-specific style due to the `<a>` HTML tag */\n",
       "\n",
       "#sk-container-id-3 a.estimator_doc_link {\n",
       "  float: right;\n",
       "  font-size: 1rem;\n",
       "  line-height: 1em;\n",
       "  font-family: monospace;\n",
       "  background-color: var(--sklearn-color-background);\n",
       "  border-radius: 1rem;\n",
       "  height: 1rem;\n",
       "  width: 1rem;\n",
       "  text-decoration: none;\n",
       "  /* unfitted */\n",
       "  color: var(--sklearn-color-unfitted-level-1);\n",
       "  border: var(--sklearn-color-unfitted-level-1) 1pt solid;\n",
       "}\n",
       "\n",
       "#sk-container-id-3 a.estimator_doc_link.fitted {\n",
       "  /* fitted */\n",
       "  border: var(--sklearn-color-fitted-level-1) 1pt solid;\n",
       "  color: var(--sklearn-color-fitted-level-1);\n",
       "}\n",
       "\n",
       "/* On hover */\n",
       "#sk-container-id-3 a.estimator_doc_link:hover {\n",
       "  /* unfitted */\n",
       "  background-color: var(--sklearn-color-unfitted-level-3);\n",
       "  color: var(--sklearn-color-background);\n",
       "  text-decoration: none;\n",
       "}\n",
       "\n",
       "#sk-container-id-3 a.estimator_doc_link.fitted:hover {\n",
       "  /* fitted */\n",
       "  background-color: var(--sklearn-color-fitted-level-3);\n",
       "}\n",
       "</style><div id=\"sk-container-id-3\" class=\"sk-top-container\"><div class=\"sk-text-repr-fallback\"><pre>DecisionTreeRegressor()</pre><b>In a Jupyter environment, please rerun this cell to show the HTML representation or trust the notebook. <br />On GitHub, the HTML representation is unable to render, please try loading this page with nbviewer.org.</b></div><div class=\"sk-container\" hidden><div class=\"sk-item\"><div class=\"sk-estimator fitted sk-toggleable\"><input class=\"sk-toggleable__control sk-hidden--visually\" id=\"sk-estimator-id-3\" type=\"checkbox\" checked><label for=\"sk-estimator-id-3\" class=\"sk-toggleable__label fitted sk-toggleable__label-arrow fitted\">&nbsp;&nbsp;DecisionTreeRegressor<a class=\"sk-estimator-doc-link fitted\" rel=\"noreferrer\" target=\"_blank\" href=\"https://scikit-learn.org/1.4/modules/generated/sklearn.tree.DecisionTreeRegressor.html\">?<span>Documentation for DecisionTreeRegressor</span></a><span class=\"sk-estimator-doc-link fitted\">i<span>Fitted</span></span></label><div class=\"sk-toggleable__content fitted\"><pre>DecisionTreeRegressor()</pre></div> </div></div></div></div>"
      ],
      "text/plain": [
       "DecisionTreeRegressor()"
      ]
     },
     "execution_count": 248,
     "metadata": {},
     "output_type": "execute_result"
    }
   ],
   "source": [
    "tree_model = DecisionTreeRegressor()\n",
    "\n",
    "tree_model.fit(X_train, y_train)"
   ]
  },
  {
   "cell_type": "code",
   "execution_count": 249,
   "id": "a8ad7302",
   "metadata": {},
   "outputs": [],
   "source": [
    "y_pred_tree = tree_model.predict(X_test)"
   ]
  },
  {
   "cell_type": "code",
   "execution_count": 250,
   "id": "279e17e3",
   "metadata": {},
   "outputs": [],
   "source": [
    "mse_tree = mean_squared_error(y_test, y_pred_tree)"
   ]
  },
  {
   "cell_type": "code",
   "execution_count": 251,
   "id": "967a135f",
   "metadata": {},
   "outputs": [],
   "source": [
    "r2_tree = r2_score(y_test, y_pred_tree)"
   ]
  },
  {
   "cell_type": "code",
   "execution_count": 252,
   "id": "a4de1d47",
   "metadata": {},
   "outputs": [
    {
     "data": {
      "text/plain": [
       "0.14027446972227164"
      ]
     },
     "execution_count": 252,
     "metadata": {},
     "output_type": "execute_result"
    }
   ],
   "source": [
    "r2_tree"
   ]
  },
  {
   "cell_type": "code",
   "execution_count": 255,
   "id": "ad78242c",
   "metadata": {},
   "outputs": [],
   "source": [
    "from sklearn.ensemble import RandomForestRegressor,\n",
    "\n",
    "rf_model = RandomForestRegressor(random_state=42, n_estimators=100)"
   ]
  },
  {
   "cell_type": "code",
   "execution_count": 256,
   "id": "54edf1ca",
   "metadata": {},
   "outputs": [],
   "source": [
    "rf_model.fit(X_train, y_train)\n",
    "y_pred_rf = rf_model.predict(X_test)\n",
    "mse_rf = mean_squared_error(y_test, y_pred_rf)\n",
    "r2_rf = r2_score(y_test, y_pred_rf)"
   ]
  },
  {
   "cell_type": "code",
   "execution_count": 257,
   "id": "8ee2d394",
   "metadata": {},
   "outputs": [
    {
     "data": {
      "text/plain": [
       "0.16007304825576696"
      ]
     },
     "execution_count": 257,
     "metadata": {},
     "output_type": "execute_result"
    }
   ],
   "source": [
    "r2_rf"
   ]
  },
  {
   "cell_type": "code",
   "execution_count": 258,
   "id": "7b609533",
   "metadata": {},
   "outputs": [],
   "source": [
    "from sklearn.svm import SVC"
   ]
  },
  {
   "cell_type": "code",
   "execution_count": 259,
   "id": "111daee9",
   "metadata": {},
   "outputs": [
    {
     "data": {
      "text/plain": [
       "array([ 490,  790,  900, 1040,  790,  800, 1220,  490, 1120, 1040,  800,\n",
       "        490, 1381,  800, 1120,  800, 1120,  390, 1306,  490, 1120, 1120,\n",
       "       1120, 1300,  800, 1040,  990,  800,  900,  850,  390,  850,  900,\n",
       "        800, 1120, 1306,  390,  490, 1120,  490, 1306, 1120,  850,  790,\n",
       "       1306, 1120, 1381,  490,  850, 1120, 1040,  790, 1040,  790,  790,\n",
       "        490, 1220, 1120, 1040,  790,  790,  790, 1040,  550, 1381,  550,\n",
       "       1120,  790, 1381, 1306, 1040,  490,  790,  550,  990, 1306,  490,\n",
       "        790,  850, 1306, 1306, 1120,  790,  790,  800,  850,  800, 1220,\n",
       "        800, 1120, 1040, 1306, 1120, 1040,  790, 1306,  390, 1306,  390,\n",
       "        790, 1306,  800, 1040,  800, 1300, 1220, 1040,  390, 1306, 1306,\n",
       "       1306,  790, 1120,  800, 1320,  790,  900, 1120, 1306, 1040,  550,\n",
       "        490,  850,  790,  900,  900,  790,  800, 1220, 1306, 1040,  790,\n",
       "       1300, 1306, 1381, 1381,  550,  850, 1120, 1120, 1120, 1306,  900,\n",
       "       1306,  790,  900, 1306, 1120, 1306, 1300, 1220,  850,  550, 1120,\n",
       "       1040,  790,  550, 1120,  790,  790,  800,  490, 1220, 1120, 1120,\n",
       "        550,  900,  790, 1306, 1040, 1381, 1120,  790,  800, 1120, 1120,\n",
       "        390,  800, 1120, 1120, 1120, 1040,  490,  850, 1120,  550, 1120,\n",
       "       1120, 1120,  790,  390,  850, 1306,  550, 1120,  790,  490, 1306,\n",
       "       1120,  790, 1040, 1306, 1306, 1120,  800, 1120,  390,  850, 1120,\n",
       "       1300,  390,  800, 1040, 1120, 1306,  550, 1381, 1381, 1381, 1120,\n",
       "       1120, 1220,  850, 1120,  790, 1120, 1306, 1306,  790,  790,  850,\n",
       "        900,  790, 1040,  390, 1040,  550,  390,  390, 1300,  490, 1306,\n",
       "       1306, 1040, 1120, 1120,  390,  850,  900, 1120, 1120,  790, 1120,\n",
       "        800,  790,  800, 1120,  800, 1381, 1120, 1040,  800,  790, 1120,\n",
       "        390,  490, 1306,  850,  790,  850,  390, 1306, 1300, 1381,  550,\n",
       "       1306, 1120, 1306,  800,  900, 1120,  900, 1381, 1120, 1040, 1306,\n",
       "       1381, 1120, 1040, 1220,  550,  490,  550,  390, 1120,  850, 1120,\n",
       "       1120, 1120,  850, 1300,  800,  790, 1306,  390, 1306,  550,  550,\n",
       "       1120, 1306,  850,  900,  800,  900, 1120,  790,  550, 1120, 1120,\n",
       "       1306,  490,  790, 1306, 1040, 1120, 1120,  800,  800, 1220, 1220,\n",
       "        390, 1306, 1306,  800,  790, 1120,  800,  800, 1306, 1120, 1120,\n",
       "       1040, 1040,  800,  800, 1306, 1306, 1306, 1120, 1040,  790,  850,\n",
       "       1306,  390, 1120,  850,  800, 1120, 1120, 1381, 1040, 1381,  490,\n",
       "       1040, 1120,  790, 1120,  800, 1120, 1040, 1306, 1120,  490, 1306,\n",
       "       1120,  790,  790, 1306, 1120,  390, 1120, 1120,  790,  800, 1120,\n",
       "        550, 1381,  850,  490,  850, 1120, 1306,  550, 1306, 1120,  790,\n",
       "        790,  390, 1120,  490,  790,  550, 1040,  850, 1306,  490, 1306,\n",
       "        390,  390,  790, 1306, 1120, 1306,  800, 1306, 1306,  550, 1381,\n",
       "       1381, 1120,  550, 1306,  490, 1120, 1120,  850,  900,  790, 1120,\n",
       "       1120, 1306,  390, 1040,  490, 1306, 1306, 1120, 1306, 1306, 1300,\n",
       "       1120,  550, 1306, 1040,  790, 1120, 1120, 1306, 1300, 1120, 1306,\n",
       "       1306, 1306, 1120, 1306,  790,  790, 1120,  390, 1306,  850,  490,\n",
       "       1040, 1306], dtype=int64)"
      ]
     },
     "execution_count": 259,
     "metadata": {},
     "output_type": "execute_result"
    }
   ],
   "source": [
    "svc_model = SVC()\n",
    "svc_model.fit(X_train, y_train)\n",
    "y_pred_svc = svc_model.predict(X_test)\n",
    "y_pred_svc"
   ]
  },
  {
   "cell_type": "code",
   "execution_count": 260,
   "id": "c073f7ce",
   "metadata": {},
   "outputs": [
    {
     "data": {
      "text/plain": [
       "0.1202804746494067"
      ]
     },
     "execution_count": 260,
     "metadata": {},
     "output_type": "execute_result"
    }
   ],
   "source": [
    "svc_model.score(X_train, y_train)"
   ]
  },
  {
   "cell_type": "code",
   "execution_count": 261,
   "id": "677c16e7",
   "metadata": {},
   "outputs": [
    {
     "data": {
      "text/plain": [
       "0.09482758620689655"
      ]
     },
     "execution_count": 261,
     "metadata": {},
     "output_type": "execute_result"
    }
   ],
   "source": [
    "svc_model.score(X_test, y_test)"
   ]
  },
  {
   "cell_type": "code",
   "execution_count": null,
   "id": "45901059",
   "metadata": {},
   "outputs": [],
   "source": []
  }
 ],
 "metadata": {
  "kernelspec": {
   "display_name": "Python 3 (ipykernel)",
   "language": "python",
   "name": "python3"
  },
  "language_info": {
   "codemirror_mode": {
    "name": "ipython",
    "version": 3
   },
   "file_extension": ".py",
   "mimetype": "text/x-python",
   "name": "python",
   "nbconvert_exporter": "python",
   "pygments_lexer": "ipython3",
   "version": "3.11.5"
  }
 },
 "nbformat": 4,
 "nbformat_minor": 5
}
